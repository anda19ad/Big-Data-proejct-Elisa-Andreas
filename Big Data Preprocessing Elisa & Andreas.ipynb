{
 "cells": [
  {
   "cell_type": "markdown",
   "id": "8aabd271",
   "metadata": {},
   "source": [
    "# Preprocessing of the data"
   ]
  },
  {
   "cell_type": "markdown",
   "id": "4b1ada5a",
   "metadata": {},
   "source": [
    "This report follows the structure of the CRISP-DM. The details of each and the in-depth explanation is presented in the report. In this notebook, comments are made for the purpose of possible reconstruction and to follow the thoughts of the code.\n",
    "\n",
    "Important to note, that given the large dataset, a visualisation tool was used for the very first part of the data understanding of the data set."
   ]
  },
  {
   "cell_type": "markdown",
   "id": "94421d51",
   "metadata": {},
   "source": [
    "### Importing of the basics"
   ]
  },
  {
   "cell_type": "code",
   "execution_count": 1,
   "id": "68e1aaf1",
   "metadata": {},
   "outputs": [],
   "source": [
    "# Importing the basics\n",
    "import pandas as pd\n",
    "import numpy as np\n"
   ]
  },
  {
   "cell_type": "markdown",
   "id": "ef11cb3e",
   "metadata": {},
   "source": [
    "### Presentation of the data"
   ]
  },
  {
   "cell_type": "code",
   "execution_count": 2,
   "id": "74626d0e",
   "metadata": {},
   "outputs": [
    {
     "name": "stderr",
     "output_type": "stream",
     "text": [
      "C:\\Users\\lynma\\AppData\\Local\\Temp\\ipykernel_4048\\521627954.py:2: DtypeWarning: Columns (9) have mixed types. Specify dtype option on import or set low_memory=False.\n",
      "  SBA_df = pd.read_csv('SBAnational original.csv')\n"
     ]
    },
    {
     "data": {
      "text/html": [
       "<div>\n",
       "<style scoped>\n",
       "    .dataframe tbody tr th:only-of-type {\n",
       "        vertical-align: middle;\n",
       "    }\n",
       "\n",
       "    .dataframe tbody tr th {\n",
       "        vertical-align: top;\n",
       "    }\n",
       "\n",
       "    .dataframe thead th {\n",
       "        text-align: right;\n",
       "    }\n",
       "</style>\n",
       "<table border=\"1\" class=\"dataframe\">\n",
       "  <thead>\n",
       "    <tr style=\"text-align: right;\">\n",
       "      <th></th>\n",
       "      <th>LoanNr_ChkDgt</th>\n",
       "      <th>Name</th>\n",
       "      <th>City</th>\n",
       "      <th>State</th>\n",
       "      <th>Zip</th>\n",
       "      <th>Bank</th>\n",
       "      <th>BankState</th>\n",
       "      <th>NAICS</th>\n",
       "      <th>ApprovalDate</th>\n",
       "      <th>ApprovalFY</th>\n",
       "      <th>...</th>\n",
       "      <th>RevLineCr</th>\n",
       "      <th>LowDoc</th>\n",
       "      <th>ChgOffDate</th>\n",
       "      <th>DisbursementDate</th>\n",
       "      <th>DisbursementGross</th>\n",
       "      <th>BalanceGross</th>\n",
       "      <th>MIS_Status</th>\n",
       "      <th>ChgOffPrinGr</th>\n",
       "      <th>GrAppv</th>\n",
       "      <th>SBA_Appv</th>\n",
       "    </tr>\n",
       "  </thead>\n",
       "  <tbody>\n",
       "    <tr>\n",
       "      <th>0</th>\n",
       "      <td>1000014003</td>\n",
       "      <td>ABC HOBBYCRAFT</td>\n",
       "      <td>EVANSVILLE</td>\n",
       "      <td>IN</td>\n",
       "      <td>47711</td>\n",
       "      <td>FIFTH THIRD BANK</td>\n",
       "      <td>OH</td>\n",
       "      <td>451120</td>\n",
       "      <td>28-Feb-97</td>\n",
       "      <td>1997</td>\n",
       "      <td>...</td>\n",
       "      <td>N</td>\n",
       "      <td>Y</td>\n",
       "      <td>NaN</td>\n",
       "      <td>28-Feb-99</td>\n",
       "      <td>$60,000.00</td>\n",
       "      <td>$0.00</td>\n",
       "      <td>P I F</td>\n",
       "      <td>$0.00</td>\n",
       "      <td>$60,000.00</td>\n",
       "      <td>$48,000.00</td>\n",
       "    </tr>\n",
       "    <tr>\n",
       "      <th>1</th>\n",
       "      <td>1000024006</td>\n",
       "      <td>LANDMARK BAR &amp; GRILLE (THE)</td>\n",
       "      <td>NEW PARIS</td>\n",
       "      <td>IN</td>\n",
       "      <td>46526</td>\n",
       "      <td>1ST SOURCE BANK</td>\n",
       "      <td>IN</td>\n",
       "      <td>722410</td>\n",
       "      <td>28-Feb-97</td>\n",
       "      <td>1997</td>\n",
       "      <td>...</td>\n",
       "      <td>N</td>\n",
       "      <td>Y</td>\n",
       "      <td>NaN</td>\n",
       "      <td>31-May-97</td>\n",
       "      <td>$40,000.00</td>\n",
       "      <td>$0.00</td>\n",
       "      <td>P I F</td>\n",
       "      <td>$0.00</td>\n",
       "      <td>$40,000.00</td>\n",
       "      <td>$32,000.00</td>\n",
       "    </tr>\n",
       "    <tr>\n",
       "      <th>2</th>\n",
       "      <td>1000034009</td>\n",
       "      <td>WHITLOCK DDS, TODD M.</td>\n",
       "      <td>BLOOMINGTON</td>\n",
       "      <td>IN</td>\n",
       "      <td>47401</td>\n",
       "      <td>GRANT COUNTY STATE BANK</td>\n",
       "      <td>IN</td>\n",
       "      <td>621210</td>\n",
       "      <td>28-Feb-97</td>\n",
       "      <td>1997</td>\n",
       "      <td>...</td>\n",
       "      <td>N</td>\n",
       "      <td>N</td>\n",
       "      <td>NaN</td>\n",
       "      <td>31-Dec-97</td>\n",
       "      <td>$287,000.00</td>\n",
       "      <td>$0.00</td>\n",
       "      <td>P I F</td>\n",
       "      <td>$0.00</td>\n",
       "      <td>$287,000.00</td>\n",
       "      <td>$215,250.00</td>\n",
       "    </tr>\n",
       "    <tr>\n",
       "      <th>3</th>\n",
       "      <td>1000044001</td>\n",
       "      <td>BIG BUCKS PAWN &amp; JEWELRY, LLC</td>\n",
       "      <td>BROKEN ARROW</td>\n",
       "      <td>OK</td>\n",
       "      <td>74012</td>\n",
       "      <td>1ST NATL BK &amp; TR CO OF BROKEN</td>\n",
       "      <td>OK</td>\n",
       "      <td>0</td>\n",
       "      <td>28-Feb-97</td>\n",
       "      <td>1997</td>\n",
       "      <td>...</td>\n",
       "      <td>N</td>\n",
       "      <td>Y</td>\n",
       "      <td>NaN</td>\n",
       "      <td>30-Jun-97</td>\n",
       "      <td>$35,000.00</td>\n",
       "      <td>$0.00</td>\n",
       "      <td>P I F</td>\n",
       "      <td>$0.00</td>\n",
       "      <td>$35,000.00</td>\n",
       "      <td>$28,000.00</td>\n",
       "    </tr>\n",
       "    <tr>\n",
       "      <th>4</th>\n",
       "      <td>1000054004</td>\n",
       "      <td>ANASTASIA CONFECTIONS, INC.</td>\n",
       "      <td>ORLANDO</td>\n",
       "      <td>FL</td>\n",
       "      <td>32801</td>\n",
       "      <td>FLORIDA BUS. DEVEL CORP</td>\n",
       "      <td>FL</td>\n",
       "      <td>0</td>\n",
       "      <td>28-Feb-97</td>\n",
       "      <td>1997</td>\n",
       "      <td>...</td>\n",
       "      <td>N</td>\n",
       "      <td>N</td>\n",
       "      <td>NaN</td>\n",
       "      <td>14-May-97</td>\n",
       "      <td>$229,000.00</td>\n",
       "      <td>$0.00</td>\n",
       "      <td>P I F</td>\n",
       "      <td>$0.00</td>\n",
       "      <td>$229,000.00</td>\n",
       "      <td>$229,000.00</td>\n",
       "    </tr>\n",
       "  </tbody>\n",
       "</table>\n",
       "<p>5 rows × 27 columns</p>\n",
       "</div>"
      ],
      "text/plain": [
       "   LoanNr_ChkDgt                           Name          City State    Zip  \\\n",
       "0     1000014003                 ABC HOBBYCRAFT    EVANSVILLE    IN  47711   \n",
       "1     1000024006    LANDMARK BAR & GRILLE (THE)     NEW PARIS    IN  46526   \n",
       "2     1000034009          WHITLOCK DDS, TODD M.   BLOOMINGTON    IN  47401   \n",
       "3     1000044001  BIG BUCKS PAWN & JEWELRY, LLC  BROKEN ARROW    OK  74012   \n",
       "4     1000054004    ANASTASIA CONFECTIONS, INC.       ORLANDO    FL  32801   \n",
       "\n",
       "                            Bank BankState   NAICS ApprovalDate ApprovalFY  \\\n",
       "0               FIFTH THIRD BANK        OH  451120    28-Feb-97       1997   \n",
       "1                1ST SOURCE BANK        IN  722410    28-Feb-97       1997   \n",
       "2        GRANT COUNTY STATE BANK        IN  621210    28-Feb-97       1997   \n",
       "3  1ST NATL BK & TR CO OF BROKEN        OK       0    28-Feb-97       1997   \n",
       "4        FLORIDA BUS. DEVEL CORP        FL       0    28-Feb-97       1997   \n",
       "\n",
       "   ...  RevLineCr  LowDoc  ChgOffDate  DisbursementDate  DisbursementGross  \\\n",
       "0  ...          N       Y         NaN         28-Feb-99        $60,000.00    \n",
       "1  ...          N       Y         NaN         31-May-97        $40,000.00    \n",
       "2  ...          N       N         NaN         31-Dec-97       $287,000.00    \n",
       "3  ...          N       Y         NaN         30-Jun-97        $35,000.00    \n",
       "4  ...          N       N         NaN         14-May-97       $229,000.00    \n",
       "\n",
       "   BalanceGross  MIS_Status ChgOffPrinGr        GrAppv      SBA_Appv  \n",
       "0        $0.00        P I F       $0.00    $60,000.00    $48,000.00   \n",
       "1        $0.00        P I F       $0.00    $40,000.00    $32,000.00   \n",
       "2        $0.00        P I F       $0.00   $287,000.00   $215,250.00   \n",
       "3        $0.00        P I F       $0.00    $35,000.00    $28,000.00   \n",
       "4        $0.00        P I F       $0.00   $229,000.00   $229,000.00   \n",
       "\n",
       "[5 rows x 27 columns]"
      ]
     },
     "execution_count": 2,
     "metadata": {},
     "output_type": "execute_result"
    }
   ],
   "source": [
    "# Reading the data file, from the same folder as the jupyter Notebook.\n",
    "SBA_df = pd.read_csv('SBAnational original.csv')\n",
    "\n",
    "#Displaying the data, standard is displaying the first 5 rows\n",
    "SBA_df.head()"
   ]
  },
  {
   "cell_type": "code",
   "execution_count": 3,
   "id": "696824c3",
   "metadata": {},
   "outputs": [
    {
     "name": "stdout",
     "output_type": "stream",
     "text": [
      "<class 'pandas.core.frame.DataFrame'>\n",
      "RangeIndex: 899163 entries, 0 to 899162\n",
      "Data columns (total 27 columns):\n",
      " #   Column             Non-Null Count   Dtype  \n",
      "---  ------             --------------   -----  \n",
      " 0   LoanNr_ChkDgt      899163 non-null  int64  \n",
      " 1   Name               899149 non-null  object \n",
      " 2   City               899133 non-null  object \n",
      " 3   State              899149 non-null  object \n",
      " 4   Zip                899163 non-null  int64  \n",
      " 5   Bank               897604 non-null  object \n",
      " 6   BankState          897597 non-null  object \n",
      " 7   NAICS              899163 non-null  int64  \n",
      " 8   ApprovalDate       899163 non-null  object \n",
      " 9   ApprovalFY         899163 non-null  object \n",
      " 10  Term               899163 non-null  int64  \n",
      " 11  NoEmp              899163 non-null  int64  \n",
      " 12  NewExist           899027 non-null  float64\n",
      " 13  CreateJob          899163 non-null  int64  \n",
      " 14  RetainedJob        899163 non-null  int64  \n",
      " 15  FranchiseCode      899163 non-null  int64  \n",
      " 16  UrbanRural         899163 non-null  int64  \n",
      " 17  RevLineCr          894635 non-null  object \n",
      " 18  LowDoc             896581 non-null  object \n",
      " 19  ChgOffDate         162698 non-null  object \n",
      " 20  DisbursementDate   896795 non-null  object \n",
      " 21  DisbursementGross  899163 non-null  object \n",
      " 22  BalanceGross       899163 non-null  object \n",
      " 23  MIS_Status         897166 non-null  object \n",
      " 24  ChgOffPrinGr       899163 non-null  object \n",
      " 25  GrAppv             899163 non-null  object \n",
      " 26  SBA_Appv           899163 non-null  object \n",
      "dtypes: float64(1), int64(9), object(17)\n",
      "memory usage: 185.2+ MB\n"
     ]
    }
   ],
   "source": [
    "# We want to see the Data types of the attributes, as they are classified by Panda\n",
    "# We can identify mulitple problems with the columns/attributes. Therefore we investigate which types of columns we have. https://pbpython.com/pandas_dtypes.html\n",
    "SBA_df.info()"
   ]
  },
  {
   "cell_type": "code",
   "execution_count": 4,
   "id": "6d4c266e",
   "metadata": {},
   "outputs": [],
   "source": [
    "# From the above, we learn how the data is being reading, and from here the first sorting and data preparation can begin."
   ]
  },
  {
   "cell_type": "markdown",
   "id": "d2154152",
   "metadata": {},
   "source": [
    "### Dropping attributes"
   ]
  },
  {
   "cell_type": "code",
   "execution_count": 5,
   "id": "a735a616",
   "metadata": {},
   "outputs": [
    {
     "name": "stdout",
     "output_type": "stream",
     "text": [
      "<class 'pandas.core.frame.DataFrame'>\n",
      "RangeIndex: 899163 entries, 0 to 899162\n",
      "Data columns (total 12 columns):\n",
      " #   Column             Non-Null Count   Dtype  \n",
      "---  ------             --------------   -----  \n",
      " 0   State              899149 non-null  object \n",
      " 1   BankState          897597 non-null  object \n",
      " 2   NAICS              899163 non-null  int64  \n",
      " 3   ApprovalFY         899163 non-null  object \n",
      " 4   Term               899163 non-null  int64  \n",
      " 5   NoEmp              899163 non-null  int64  \n",
      " 6   NewExist           899027 non-null  float64\n",
      " 7   FranchiseCode      899163 non-null  int64  \n",
      " 8   UrbanRural         899163 non-null  int64  \n",
      " 9   LowDoc             896581 non-null  object \n",
      " 10  DisbursementGross  899163 non-null  object \n",
      " 11  MIS_Status         897166 non-null  object \n",
      "dtypes: float64(1), int64(5), object(6)\n",
      "memory usage: 82.3+ MB\n"
     ]
    }
   ],
   "source": [
    "# Based on the first data understanding we can see that there are more than 900K instances. \n",
    "# Furthermore, some of the coloumns are non-relevant for the models. First we drop non-relevant columns.\n",
    "\n",
    "#Updating the DF variable to not include the dropped columns\n",
    "SBA_df = SBA_df.drop(columns=['City','Zip', 'CreateJob', 'RetainedJob', 'ChgOffDate', \n",
    "                     'LoanNr_ChkDgt', 'Name', 'ApprovalDate','DisbursementDate', 'BalanceGross',\n",
    "                     'ChgOffPrinGr', 'GrAppv', 'SBA_Appv', 'Bank','RevLineCr'])\n",
    "\n",
    "# Seeing the result by using .info()\n",
    "SBA_df.info()"
   ]
  },
  {
   "cell_type": "markdown",
   "id": "56088c56",
   "metadata": {},
   "source": [
    "### Reducing size of dataset based on the years"
   ]
  },
  {
   "cell_type": "code",
   "execution_count": 6,
   "id": "65489382",
   "metadata": {},
   "outputs": [
    {
     "name": "stdout",
     "output_type": "stream",
     "text": [
      "<class 'pandas.core.frame.DataFrame'>\n",
      "RangeIndex: 899163 entries, 0 to 899162\n",
      "Data columns (total 12 columns):\n",
      " #   Column             Non-Null Count   Dtype  \n",
      "---  ------             --------------   -----  \n",
      " 0   State              899149 non-null  object \n",
      " 1   BankState          897597 non-null  object \n",
      " 2   NAICS              899163 non-null  int64  \n",
      " 3   ApprovalFY         899146 non-null  float64\n",
      " 4   Term               899163 non-null  int64  \n",
      " 5   NoEmp              899163 non-null  int64  \n",
      " 6   NewExist           899027 non-null  float64\n",
      " 7   FranchiseCode      899163 non-null  int64  \n",
      " 8   UrbanRural         899163 non-null  int64  \n",
      " 9   LowDoc             896581 non-null  object \n",
      " 10  DisbursementGross  899163 non-null  object \n",
      " 11  MIS_Status         897166 non-null  object \n",
      "dtypes: float64(2), int64(5), object(5)\n",
      "memory usage: 82.3+ MB\n"
     ]
    }
   ],
   "source": [
    "# Then we need to convert the column from objects into integers using the astype() function. https://www.linkedin.com/pulse/change-data-type-columns-pandas-mohit-sharma/\n",
    "#Through an iterating process \n",
    "\n",
    "SBA_df[\"ApprovalFY\"] = pd.to_numeric(SBA_df[\"ApprovalFY\"], errors='coerce')\n",
    "\n",
    "#The errors='coerce' creates NaN values when meeting an error. We want to drop those\n",
    "SBA_df[\"ApprovalFY\"].dropna(inplace=True)\n",
    "\n",
    "SBA_df.info()"
   ]
  },
  {
   "cell_type": "code",
   "execution_count": 7,
   "id": "b63d7d30",
   "metadata": {},
   "outputs": [
    {
     "data": {
      "text/html": [
       "<div>\n",
       "<style scoped>\n",
       "    .dataframe tbody tr th:only-of-type {\n",
       "        vertical-align: middle;\n",
       "    }\n",
       "\n",
       "    .dataframe tbody tr th {\n",
       "        vertical-align: top;\n",
       "    }\n",
       "\n",
       "    .dataframe thead th {\n",
       "        text-align: right;\n",
       "    }\n",
       "</style>\n",
       "<table border=\"1\" class=\"dataframe\">\n",
       "  <thead>\n",
       "    <tr style=\"text-align: right;\">\n",
       "      <th></th>\n",
       "      <th>State</th>\n",
       "      <th>BankState</th>\n",
       "      <th>NAICS</th>\n",
       "      <th>ApprovalFY</th>\n",
       "      <th>Term</th>\n",
       "      <th>NoEmp</th>\n",
       "      <th>NewExist</th>\n",
       "      <th>FranchiseCode</th>\n",
       "      <th>UrbanRural</th>\n",
       "      <th>LowDoc</th>\n",
       "      <th>DisbursementGross</th>\n",
       "      <th>MIS_Status</th>\n",
       "    </tr>\n",
       "  </thead>\n",
       "  <tbody>\n",
       "    <tr>\n",
       "      <th>0</th>\n",
       "      <td>IN</td>\n",
       "      <td>OH</td>\n",
       "      <td>451120</td>\n",
       "      <td>1997</td>\n",
       "      <td>84</td>\n",
       "      <td>4</td>\n",
       "      <td>2.0</td>\n",
       "      <td>1</td>\n",
       "      <td>0</td>\n",
       "      <td>Y</td>\n",
       "      <td>$60,000.00</td>\n",
       "      <td>P I F</td>\n",
       "    </tr>\n",
       "    <tr>\n",
       "      <th>1</th>\n",
       "      <td>IN</td>\n",
       "      <td>IN</td>\n",
       "      <td>722410</td>\n",
       "      <td>1997</td>\n",
       "      <td>60</td>\n",
       "      <td>2</td>\n",
       "      <td>2.0</td>\n",
       "      <td>1</td>\n",
       "      <td>0</td>\n",
       "      <td>Y</td>\n",
       "      <td>$40,000.00</td>\n",
       "      <td>P I F</td>\n",
       "    </tr>\n",
       "    <tr>\n",
       "      <th>2</th>\n",
       "      <td>IN</td>\n",
       "      <td>IN</td>\n",
       "      <td>621210</td>\n",
       "      <td>1997</td>\n",
       "      <td>180</td>\n",
       "      <td>7</td>\n",
       "      <td>1.0</td>\n",
       "      <td>1</td>\n",
       "      <td>0</td>\n",
       "      <td>N</td>\n",
       "      <td>$287,000.00</td>\n",
       "      <td>P I F</td>\n",
       "    </tr>\n",
       "    <tr>\n",
       "      <th>3</th>\n",
       "      <td>OK</td>\n",
       "      <td>OK</td>\n",
       "      <td>0</td>\n",
       "      <td>1997</td>\n",
       "      <td>60</td>\n",
       "      <td>2</td>\n",
       "      <td>1.0</td>\n",
       "      <td>1</td>\n",
       "      <td>0</td>\n",
       "      <td>Y</td>\n",
       "      <td>$35,000.00</td>\n",
       "      <td>P I F</td>\n",
       "    </tr>\n",
       "    <tr>\n",
       "      <th>4</th>\n",
       "      <td>FL</td>\n",
       "      <td>FL</td>\n",
       "      <td>0</td>\n",
       "      <td>1997</td>\n",
       "      <td>240</td>\n",
       "      <td>14</td>\n",
       "      <td>1.0</td>\n",
       "      <td>1</td>\n",
       "      <td>0</td>\n",
       "      <td>N</td>\n",
       "      <td>$229,000.00</td>\n",
       "      <td>P I F</td>\n",
       "    </tr>\n",
       "  </tbody>\n",
       "</table>\n",
       "</div>"
      ],
      "text/plain": [
       "  State BankState   NAICS  ApprovalFY  Term  NoEmp  NewExist  FranchiseCode  \\\n",
       "0    IN        OH  451120        1997    84      4       2.0              1   \n",
       "1    IN        IN  722410        1997    60      2       2.0              1   \n",
       "2    IN        IN  621210        1997   180      7       1.0              1   \n",
       "3    OK        OK       0        1997    60      2       1.0              1   \n",
       "4    FL        FL       0        1997   240     14       1.0              1   \n",
       "\n",
       "   UrbanRural LowDoc DisbursementGross MIS_Status  \n",
       "0           0      Y       $60,000.00       P I F  \n",
       "1           0      Y       $40,000.00       P I F  \n",
       "2           0      N      $287,000.00       P I F  \n",
       "3           0      Y       $35,000.00       P I F  \n",
       "4           0      N      $229,000.00       P I F  "
      ]
     },
     "execution_count": 7,
     "metadata": {},
     "output_type": "execute_result"
    }
   ],
   "source": [
    "#Converting the column into integers. https://stackoverflow.com/questions/43956335/convert-float64-column-to-int64-in-pandas\n",
    "SBA_df['ApprovalFY'] = SBA_df['ApprovalFY'].fillna(0).astype(np.int64)\n",
    "SBA_df.head()"
   ]
  },
  {
   "cell_type": "code",
   "execution_count": 8,
   "id": "435ed04a",
   "metadata": {},
   "outputs": [
    {
     "name": "stdout",
     "output_type": "stream",
     "text": [
      "<class 'pandas.core.frame.DataFrame'>\n",
      "RangeIndex: 899163 entries, 0 to 899162\n",
      "Data columns (total 12 columns):\n",
      " #   Column             Non-Null Count   Dtype  \n",
      "---  ------             --------------   -----  \n",
      " 0   State              899149 non-null  object \n",
      " 1   BankState          897597 non-null  object \n",
      " 2   NAICS              899163 non-null  int64  \n",
      " 3   ApprovalFY         899163 non-null  int64  \n",
      " 4   Term               899163 non-null  int64  \n",
      " 5   NoEmp              899163 non-null  int64  \n",
      " 6   NewExist           899027 non-null  float64\n",
      " 7   FranchiseCode      899163 non-null  int64  \n",
      " 8   UrbanRural         899163 non-null  int64  \n",
      " 9   LowDoc             896581 non-null  object \n",
      " 10  DisbursementGross  899163 non-null  object \n",
      " 11  MIS_Status         897166 non-null  object \n",
      "dtypes: float64(1), int64(6), object(5)\n",
      "memory usage: 82.3+ MB\n"
     ]
    }
   ],
   "source": [
    "# Checking if the column is the right type of Dtype\n",
    "SBA_df.info()"
   ]
  },
  {
   "cell_type": "code",
   "execution_count": 9,
   "id": "628541b8",
   "metadata": {},
   "outputs": [
    {
     "name": "stdout",
     "output_type": "stream",
     "text": [
      "<class 'pandas.core.frame.DataFrame'>\n",
      "Int64Index: 427438 entries, 12 to 896096\n",
      "Data columns (total 12 columns):\n",
      " #   Column             Non-Null Count   Dtype  \n",
      "---  ------             --------------   -----  \n",
      " 0   State              427438 non-null  object \n",
      " 1   BankState          427426 non-null  object \n",
      " 2   NAICS              427438 non-null  int64  \n",
      " 3   ApprovalFY         427438 non-null  int64  \n",
      " 4   Term               427438 non-null  int64  \n",
      " 5   NoEmp              427438 non-null  int64  \n",
      " 6   NewExist           427344 non-null  float64\n",
      " 7   FranchiseCode      427438 non-null  int64  \n",
      " 8   UrbanRural         427438 non-null  int64  \n",
      " 9   LowDoc             425412 non-null  object \n",
      " 10  DisbursementGross  427438 non-null  object \n",
      " 11  MIS_Status         425947 non-null  object \n",
      "dtypes: float64(1), int64(6), object(5)\n",
      "memory usage: 42.4+ MB\n"
     ]
    }
   ],
   "source": [
    "# Next we want to limit the dataset to only include instances relevant for the model. We want as recent data as possible\n",
    "# but also keeping in mind, that the loans should have a fair chance of defaulting. Based on visual analysis, the range chosen is\n",
    "# the years from 2003-2010. Using the drop() function. https://sparkbyexamples.com/pandas/pandas-delete-rows-based-on-column-value/\n",
    "\n",
    "SBA_df = SBA_df.drop(SBA_df[(SBA_df['ApprovalFY'] < 2003) | (SBA_df['ApprovalFY'] > 2010)].index)\n",
    "SBA_df.info()"
   ]
  },
  {
   "cell_type": "code",
   "execution_count": 10,
   "id": "423a7252",
   "metadata": {},
   "outputs": [
    {
     "data": {
      "text/html": [
       "<div>\n",
       "<style scoped>\n",
       "    .dataframe tbody tr th:only-of-type {\n",
       "        vertical-align: middle;\n",
       "    }\n",
       "\n",
       "    .dataframe tbody tr th {\n",
       "        vertical-align: top;\n",
       "    }\n",
       "\n",
       "    .dataframe thead th {\n",
       "        text-align: right;\n",
       "    }\n",
       "</style>\n",
       "<table border=\"1\" class=\"dataframe\">\n",
       "  <thead>\n",
       "    <tr style=\"text-align: right;\">\n",
       "      <th></th>\n",
       "      <th>State</th>\n",
       "      <th>BankState</th>\n",
       "      <th>NAICS</th>\n",
       "      <th>ApprovalFY</th>\n",
       "      <th>Term</th>\n",
       "      <th>NoEmp</th>\n",
       "      <th>NewExist</th>\n",
       "      <th>FranchiseCode</th>\n",
       "      <th>UrbanRural</th>\n",
       "      <th>LowDoc</th>\n",
       "      <th>DisbursementGross</th>\n",
       "      <th>MIS_Status</th>\n",
       "    </tr>\n",
       "  </thead>\n",
       "  <tbody>\n",
       "    <tr>\n",
       "      <th>12</th>\n",
       "      <td>NC</td>\n",
       "      <td>MN</td>\n",
       "      <td>445299</td>\n",
       "      <td>2006</td>\n",
       "      <td>162</td>\n",
       "      <td>2</td>\n",
       "      <td>2.0</td>\n",
       "      <td>15100</td>\n",
       "      <td>1</td>\n",
       "      <td>N</td>\n",
       "      <td>$253,400.00</td>\n",
       "      <td>P I F</td>\n",
       "    </tr>\n",
       "    <tr>\n",
       "      <th>24</th>\n",
       "      <td>AR</td>\n",
       "      <td>MS</td>\n",
       "      <td>722211</td>\n",
       "      <td>2006</td>\n",
       "      <td>126</td>\n",
       "      <td>7</td>\n",
       "      <td>1.0</td>\n",
       "      <td>1</td>\n",
       "      <td>1</td>\n",
       "      <td>N</td>\n",
       "      <td>$137,300.00</td>\n",
       "      <td>P I F</td>\n",
       "    </tr>\n",
       "    <tr>\n",
       "      <th>28</th>\n",
       "      <td>CA</td>\n",
       "      <td>SD</td>\n",
       "      <td>611110</td>\n",
       "      <td>2006</td>\n",
       "      <td>83</td>\n",
       "      <td>18</td>\n",
       "      <td>2.0</td>\n",
       "      <td>1</td>\n",
       "      <td>1</td>\n",
       "      <td>N</td>\n",
       "      <td>$438,541.00</td>\n",
       "      <td>P I F</td>\n",
       "    </tr>\n",
       "    <tr>\n",
       "      <th>30</th>\n",
       "      <td>FL</td>\n",
       "      <td>FL</td>\n",
       "      <td>238140</td>\n",
       "      <td>2006</td>\n",
       "      <td>84</td>\n",
       "      <td>4</td>\n",
       "      <td>1.0</td>\n",
       "      <td>1</td>\n",
       "      <td>1</td>\n",
       "      <td>N</td>\n",
       "      <td>$51,440.00</td>\n",
       "      <td>P I F</td>\n",
       "    </tr>\n",
       "    <tr>\n",
       "      <th>32</th>\n",
       "      <td>LA</td>\n",
       "      <td>LA</td>\n",
       "      <td>532490</td>\n",
       "      <td>2006</td>\n",
       "      <td>60</td>\n",
       "      <td>3</td>\n",
       "      <td>1.0</td>\n",
       "      <td>1</td>\n",
       "      <td>1</td>\n",
       "      <td>N</td>\n",
       "      <td>$50,000.00</td>\n",
       "      <td>P I F</td>\n",
       "    </tr>\n",
       "  </tbody>\n",
       "</table>\n",
       "</div>"
      ],
      "text/plain": [
       "   State BankState   NAICS  ApprovalFY  Term  NoEmp  NewExist  FranchiseCode  \\\n",
       "12    NC        MN  445299        2006   162      2       2.0          15100   \n",
       "24    AR        MS  722211        2006   126      7       1.0              1   \n",
       "28    CA        SD  611110        2006    83     18       2.0              1   \n",
       "30    FL        FL  238140        2006    84      4       1.0              1   \n",
       "32    LA        LA  532490        2006    60      3       1.0              1   \n",
       "\n",
       "    UrbanRural LowDoc DisbursementGross MIS_Status  \n",
       "12           1      N      $253,400.00       P I F  \n",
       "24           1      N      $137,300.00       P I F  \n",
       "28           1      N      $438,541.00       P I F  \n",
       "30           1      N       $51,440.00       P I F  \n",
       "32           1      N       $50,000.00       P I F  "
      ]
     },
     "execution_count": 10,
     "metadata": {},
     "output_type": "execute_result"
    }
   ],
   "source": [
    "#Checking if the data looks fine after preprocessing\n",
    "SBA_df.head()"
   ]
  },
  {
   "cell_type": "markdown",
   "id": "77dfcd7e",
   "metadata": {},
   "source": [
    "### Removing all NaN and Null rows from the dataset"
   ]
  },
  {
   "cell_type": "code",
   "execution_count": 11,
   "id": "8292f1f1",
   "metadata": {},
   "outputs": [
    {
     "name": "stdout",
     "output_type": "stream",
     "text": [
      "<class 'pandas.core.frame.DataFrame'>\n",
      "Int64Index: 423820 entries, 12 to 896096\n",
      "Data columns (total 12 columns):\n",
      " #   Column             Non-Null Count   Dtype  \n",
      "---  ------             --------------   -----  \n",
      " 0   State              423820 non-null  object \n",
      " 1   BankState          423820 non-null  object \n",
      " 2   NAICS              423820 non-null  int64  \n",
      " 3   ApprovalFY         423820 non-null  int64  \n",
      " 4   Term               423820 non-null  int64  \n",
      " 5   NoEmp              423820 non-null  int64  \n",
      " 6   NewExist           423820 non-null  float64\n",
      " 7   FranchiseCode      423820 non-null  int64  \n",
      " 8   UrbanRural         423820 non-null  int64  \n",
      " 9   LowDoc             423820 non-null  object \n",
      " 10  DisbursementGross  423820 non-null  object \n",
      " 11  MIS_Status         423820 non-null  object \n",
      "dtypes: float64(1), int64(6), object(5)\n",
      "memory usage: 42.0+ MB\n"
     ]
    }
   ],
   "source": [
    "#Removing all rows with either NaN or null values https://sparkbyexamples.com/pandas/pandas-drop-rows-with-nan-values-in-dataframe/\n",
    "# https://pandas.pydata.org/pandas-docs/stable/reference/api/pandas.DataFrame.dropna.html\n",
    "SBA_df.dropna()\n",
    "SBA_df.dropna(inplace=True)\n",
    "SBA_df.info()"
   ]
  },
  {
   "cell_type": "markdown",
   "id": "28c6fdba",
   "metadata": {},
   "source": [
    "After making the dataset smaller, each variable can now be configured to match the upcoming predictive models. \n",
    "### Starting with DisbursementGross"
   ]
  },
  {
   "cell_type": "code",
   "execution_count": 12,
   "id": "9f33d267",
   "metadata": {},
   "outputs": [
    {
     "name": "stdout",
     "output_type": "stream",
     "text": [
      "<class 'pandas.core.frame.DataFrame'>\n",
      "Int64Index: 423820 entries, 12 to 896096\n",
      "Data columns (total 12 columns):\n",
      " #   Column             Non-Null Count   Dtype  \n",
      "---  ------             --------------   -----  \n",
      " 0   State              423820 non-null  object \n",
      " 1   BankState          423820 non-null  object \n",
      " 2   NAICS              423820 non-null  int64  \n",
      " 3   ApprovalFY         423820 non-null  int64  \n",
      " 4   Term               423820 non-null  int64  \n",
      " 5   NoEmp              423820 non-null  int64  \n",
      " 6   NewExist           423820 non-null  float64\n",
      " 7   FranchiseCode      423820 non-null  int64  \n",
      " 8   UrbanRural         423820 non-null  int64  \n",
      " 9   LowDoc             423820 non-null  object \n",
      " 10  DisbursementGross  423820 non-null  string \n",
      " 11  MIS_Status         423820 non-null  object \n",
      "dtypes: float64(1), int64(6), object(4), string(1)\n",
      "memory usage: 42.0+ MB\n"
     ]
    }
   ],
   "source": [
    "# Removing $ from disburementGross and then converting. https://pbpython.com/currency-cleanup.html\n",
    "#First the object has to be converted into a string to remove the dollar sign. https://stackoverflow.com/questions/22231592/pandas-change-data-type-of-series-to-string\n",
    "SBA_df['DisbursementGross'] = SBA_df['DisbursementGross'].astype(\"string\")\n",
    "\n",
    "SBA_df.info()"
   ]
  },
  {
   "cell_type": "code",
   "execution_count": 13,
   "id": "fdd45fbf",
   "metadata": {},
   "outputs": [
    {
     "data": {
      "text/html": [
       "<div>\n",
       "<style scoped>\n",
       "    .dataframe tbody tr th:only-of-type {\n",
       "        vertical-align: middle;\n",
       "    }\n",
       "\n",
       "    .dataframe tbody tr th {\n",
       "        vertical-align: top;\n",
       "    }\n",
       "\n",
       "    .dataframe thead th {\n",
       "        text-align: right;\n",
       "    }\n",
       "</style>\n",
       "<table border=\"1\" class=\"dataframe\">\n",
       "  <thead>\n",
       "    <tr style=\"text-align: right;\">\n",
       "      <th></th>\n",
       "      <th>State</th>\n",
       "      <th>BankState</th>\n",
       "      <th>NAICS</th>\n",
       "      <th>ApprovalFY</th>\n",
       "      <th>Term</th>\n",
       "      <th>NoEmp</th>\n",
       "      <th>NewExist</th>\n",
       "      <th>FranchiseCode</th>\n",
       "      <th>UrbanRural</th>\n",
       "      <th>LowDoc</th>\n",
       "      <th>DisbursementGross</th>\n",
       "      <th>MIS_Status</th>\n",
       "    </tr>\n",
       "  </thead>\n",
       "  <tbody>\n",
       "    <tr>\n",
       "      <th>12</th>\n",
       "      <td>NC</td>\n",
       "      <td>MN</td>\n",
       "      <td>445299</td>\n",
       "      <td>2006</td>\n",
       "      <td>162</td>\n",
       "      <td>2</td>\n",
       "      <td>2.0</td>\n",
       "      <td>15100</td>\n",
       "      <td>1</td>\n",
       "      <td>N</td>\n",
       "      <td>253,400.00</td>\n",
       "      <td>P I F</td>\n",
       "    </tr>\n",
       "    <tr>\n",
       "      <th>24</th>\n",
       "      <td>AR</td>\n",
       "      <td>MS</td>\n",
       "      <td>722211</td>\n",
       "      <td>2006</td>\n",
       "      <td>126</td>\n",
       "      <td>7</td>\n",
       "      <td>1.0</td>\n",
       "      <td>1</td>\n",
       "      <td>1</td>\n",
       "      <td>N</td>\n",
       "      <td>137,300.00</td>\n",
       "      <td>P I F</td>\n",
       "    </tr>\n",
       "    <tr>\n",
       "      <th>28</th>\n",
       "      <td>CA</td>\n",
       "      <td>SD</td>\n",
       "      <td>611110</td>\n",
       "      <td>2006</td>\n",
       "      <td>83</td>\n",
       "      <td>18</td>\n",
       "      <td>2.0</td>\n",
       "      <td>1</td>\n",
       "      <td>1</td>\n",
       "      <td>N</td>\n",
       "      <td>438,541.00</td>\n",
       "      <td>P I F</td>\n",
       "    </tr>\n",
       "    <tr>\n",
       "      <th>30</th>\n",
       "      <td>FL</td>\n",
       "      <td>FL</td>\n",
       "      <td>238140</td>\n",
       "      <td>2006</td>\n",
       "      <td>84</td>\n",
       "      <td>4</td>\n",
       "      <td>1.0</td>\n",
       "      <td>1</td>\n",
       "      <td>1</td>\n",
       "      <td>N</td>\n",
       "      <td>51,440.00</td>\n",
       "      <td>P I F</td>\n",
       "    </tr>\n",
       "    <tr>\n",
       "      <th>32</th>\n",
       "      <td>LA</td>\n",
       "      <td>LA</td>\n",
       "      <td>532490</td>\n",
       "      <td>2006</td>\n",
       "      <td>60</td>\n",
       "      <td>3</td>\n",
       "      <td>1.0</td>\n",
       "      <td>1</td>\n",
       "      <td>1</td>\n",
       "      <td>N</td>\n",
       "      <td>50,000.00</td>\n",
       "      <td>P I F</td>\n",
       "    </tr>\n",
       "  </tbody>\n",
       "</table>\n",
       "</div>"
      ],
      "text/plain": [
       "   State BankState   NAICS  ApprovalFY  Term  NoEmp  NewExist  FranchiseCode  \\\n",
       "12    NC        MN  445299        2006   162      2       2.0          15100   \n",
       "24    AR        MS  722211        2006   126      7       1.0              1   \n",
       "28    CA        SD  611110        2006    83     18       2.0              1   \n",
       "30    FL        FL  238140        2006    84      4       1.0              1   \n",
       "32    LA        LA  532490        2006    60      3       1.0              1   \n",
       "\n",
       "    UrbanRural LowDoc DisbursementGross MIS_Status  \n",
       "12           1      N       253,400.00       P I F  \n",
       "24           1      N       137,300.00       P I F  \n",
       "28           1      N       438,541.00       P I F  \n",
       "30           1      N        51,440.00       P I F  \n",
       "32           1      N        50,000.00       P I F  "
      ]
     },
     "execution_count": 13,
     "metadata": {},
     "output_type": "execute_result"
    }
   ],
   "source": [
    "# The column is now a string and the $ can now be removed https://stackoverflow.com/questions/38516481/trying-to-remove-commas-and-dollars-signs-with-pandas-in-python\n",
    "\n",
    "SBA_df['DisbursementGross'] = SBA_df['DisbursementGross'].str.replace('$','', regex=True)\n",
    "SBA_df.head()"
   ]
  },
  {
   "cell_type": "code",
   "execution_count": 14,
   "id": "9f85acd9",
   "metadata": {},
   "outputs": [
    {
     "data": {
      "text/html": [
       "<div>\n",
       "<style scoped>\n",
       "    .dataframe tbody tr th:only-of-type {\n",
       "        vertical-align: middle;\n",
       "    }\n",
       "\n",
       "    .dataframe tbody tr th {\n",
       "        vertical-align: top;\n",
       "    }\n",
       "\n",
       "    .dataframe thead th {\n",
       "        text-align: right;\n",
       "    }\n",
       "</style>\n",
       "<table border=\"1\" class=\"dataframe\">\n",
       "  <thead>\n",
       "    <tr style=\"text-align: right;\">\n",
       "      <th></th>\n",
       "      <th>State</th>\n",
       "      <th>BankState</th>\n",
       "      <th>NAICS</th>\n",
       "      <th>ApprovalFY</th>\n",
       "      <th>Term</th>\n",
       "      <th>NoEmp</th>\n",
       "      <th>NewExist</th>\n",
       "      <th>FranchiseCode</th>\n",
       "      <th>UrbanRural</th>\n",
       "      <th>LowDoc</th>\n",
       "      <th>DisbursementGross</th>\n",
       "      <th>MIS_Status</th>\n",
       "    </tr>\n",
       "  </thead>\n",
       "  <tbody>\n",
       "    <tr>\n",
       "      <th>12</th>\n",
       "      <td>NC</td>\n",
       "      <td>MN</td>\n",
       "      <td>445299</td>\n",
       "      <td>2006</td>\n",
       "      <td>162</td>\n",
       "      <td>2</td>\n",
       "      <td>2.0</td>\n",
       "      <td>15100</td>\n",
       "      <td>1</td>\n",
       "      <td>N</td>\n",
       "      <td>253,400.00</td>\n",
       "      <td>P I F</td>\n",
       "    </tr>\n",
       "    <tr>\n",
       "      <th>24</th>\n",
       "      <td>AR</td>\n",
       "      <td>MS</td>\n",
       "      <td>722211</td>\n",
       "      <td>2006</td>\n",
       "      <td>126</td>\n",
       "      <td>7</td>\n",
       "      <td>1.0</td>\n",
       "      <td>1</td>\n",
       "      <td>1</td>\n",
       "      <td>N</td>\n",
       "      <td>137,300.00</td>\n",
       "      <td>P I F</td>\n",
       "    </tr>\n",
       "    <tr>\n",
       "      <th>28</th>\n",
       "      <td>CA</td>\n",
       "      <td>SD</td>\n",
       "      <td>611110</td>\n",
       "      <td>2006</td>\n",
       "      <td>83</td>\n",
       "      <td>18</td>\n",
       "      <td>2.0</td>\n",
       "      <td>1</td>\n",
       "      <td>1</td>\n",
       "      <td>N</td>\n",
       "      <td>438,541.00</td>\n",
       "      <td>P I F</td>\n",
       "    </tr>\n",
       "    <tr>\n",
       "      <th>30</th>\n",
       "      <td>FL</td>\n",
       "      <td>FL</td>\n",
       "      <td>238140</td>\n",
       "      <td>2006</td>\n",
       "      <td>84</td>\n",
       "      <td>4</td>\n",
       "      <td>1.0</td>\n",
       "      <td>1</td>\n",
       "      <td>1</td>\n",
       "      <td>N</td>\n",
       "      <td>51,440.00</td>\n",
       "      <td>P I F</td>\n",
       "    </tr>\n",
       "    <tr>\n",
       "      <th>32</th>\n",
       "      <td>LA</td>\n",
       "      <td>LA</td>\n",
       "      <td>532490</td>\n",
       "      <td>2006</td>\n",
       "      <td>60</td>\n",
       "      <td>3</td>\n",
       "      <td>1.0</td>\n",
       "      <td>1</td>\n",
       "      <td>1</td>\n",
       "      <td>N</td>\n",
       "      <td>50,000.00</td>\n",
       "      <td>P I F</td>\n",
       "    </tr>\n",
       "  </tbody>\n",
       "</table>\n",
       "</div>"
      ],
      "text/plain": [
       "   State BankState   NAICS  ApprovalFY  Term  NoEmp  NewExist  FranchiseCode  \\\n",
       "12    NC        MN  445299        2006   162      2       2.0          15100   \n",
       "24    AR        MS  722211        2006   126      7       1.0              1   \n",
       "28    CA        SD  611110        2006    83     18       2.0              1   \n",
       "30    FL        FL  238140        2006    84      4       1.0              1   \n",
       "32    LA        LA  532490        2006    60      3       1.0              1   \n",
       "\n",
       "    UrbanRural LowDoc DisbursementGross MIS_Status  \n",
       "12           1      N        253,400.00      P I F  \n",
       "24           1      N        137,300.00      P I F  \n",
       "28           1      N        438,541.00      P I F  \n",
       "30           1      N         51,440.00      P I F  \n",
       "32           1      N         50,000.00      P I F  "
      ]
     },
     "execution_count": 14,
     "metadata": {},
     "output_type": "execute_result"
    }
   ],
   "source": [
    "#Removing space with the same function\n",
    "SBA_df['DisbursementGross'] = SBA_df['DisbursementGross'].str.replace(' ','', regex=True)\n",
    "SBA_df.head()"
   ]
  },
  {
   "cell_type": "code",
   "execution_count": 15,
   "id": "13882349",
   "metadata": {},
   "outputs": [
    {
     "data": {
      "text/html": [
       "<div>\n",
       "<style scoped>\n",
       "    .dataframe tbody tr th:only-of-type {\n",
       "        vertical-align: middle;\n",
       "    }\n",
       "\n",
       "    .dataframe tbody tr th {\n",
       "        vertical-align: top;\n",
       "    }\n",
       "\n",
       "    .dataframe thead th {\n",
       "        text-align: right;\n",
       "    }\n",
       "</style>\n",
       "<table border=\"1\" class=\"dataframe\">\n",
       "  <thead>\n",
       "    <tr style=\"text-align: right;\">\n",
       "      <th></th>\n",
       "      <th>State</th>\n",
       "      <th>BankState</th>\n",
       "      <th>NAICS</th>\n",
       "      <th>ApprovalFY</th>\n",
       "      <th>Term</th>\n",
       "      <th>NoEmp</th>\n",
       "      <th>NewExist</th>\n",
       "      <th>FranchiseCode</th>\n",
       "      <th>UrbanRural</th>\n",
       "      <th>LowDoc</th>\n",
       "      <th>DisbursementGross</th>\n",
       "      <th>MIS_Status</th>\n",
       "    </tr>\n",
       "  </thead>\n",
       "  <tbody>\n",
       "    <tr>\n",
       "      <th>12</th>\n",
       "      <td>NC</td>\n",
       "      <td>MN</td>\n",
       "      <td>445299</td>\n",
       "      <td>2006</td>\n",
       "      <td>162</td>\n",
       "      <td>2</td>\n",
       "      <td>2.0</td>\n",
       "      <td>15100</td>\n",
       "      <td>1</td>\n",
       "      <td>N</td>\n",
       "      <td>253400.00</td>\n",
       "      <td>P I F</td>\n",
       "    </tr>\n",
       "    <tr>\n",
       "      <th>24</th>\n",
       "      <td>AR</td>\n",
       "      <td>MS</td>\n",
       "      <td>722211</td>\n",
       "      <td>2006</td>\n",
       "      <td>126</td>\n",
       "      <td>7</td>\n",
       "      <td>1.0</td>\n",
       "      <td>1</td>\n",
       "      <td>1</td>\n",
       "      <td>N</td>\n",
       "      <td>137300.00</td>\n",
       "      <td>P I F</td>\n",
       "    </tr>\n",
       "    <tr>\n",
       "      <th>28</th>\n",
       "      <td>CA</td>\n",
       "      <td>SD</td>\n",
       "      <td>611110</td>\n",
       "      <td>2006</td>\n",
       "      <td>83</td>\n",
       "      <td>18</td>\n",
       "      <td>2.0</td>\n",
       "      <td>1</td>\n",
       "      <td>1</td>\n",
       "      <td>N</td>\n",
       "      <td>438541.00</td>\n",
       "      <td>P I F</td>\n",
       "    </tr>\n",
       "    <tr>\n",
       "      <th>30</th>\n",
       "      <td>FL</td>\n",
       "      <td>FL</td>\n",
       "      <td>238140</td>\n",
       "      <td>2006</td>\n",
       "      <td>84</td>\n",
       "      <td>4</td>\n",
       "      <td>1.0</td>\n",
       "      <td>1</td>\n",
       "      <td>1</td>\n",
       "      <td>N</td>\n",
       "      <td>51440.00</td>\n",
       "      <td>P I F</td>\n",
       "    </tr>\n",
       "    <tr>\n",
       "      <th>32</th>\n",
       "      <td>LA</td>\n",
       "      <td>LA</td>\n",
       "      <td>532490</td>\n",
       "      <td>2006</td>\n",
       "      <td>60</td>\n",
       "      <td>3</td>\n",
       "      <td>1.0</td>\n",
       "      <td>1</td>\n",
       "      <td>1</td>\n",
       "      <td>N</td>\n",
       "      <td>50000.00</td>\n",
       "      <td>P I F</td>\n",
       "    </tr>\n",
       "  </tbody>\n",
       "</table>\n",
       "</div>"
      ],
      "text/plain": [
       "   State BankState   NAICS  ApprovalFY  Term  NoEmp  NewExist  FranchiseCode  \\\n",
       "12    NC        MN  445299        2006   162      2       2.0          15100   \n",
       "24    AR        MS  722211        2006   126      7       1.0              1   \n",
       "28    CA        SD  611110        2006    83     18       2.0              1   \n",
       "30    FL        FL  238140        2006    84      4       1.0              1   \n",
       "32    LA        LA  532490        2006    60      3       1.0              1   \n",
       "\n",
       "    UrbanRural LowDoc DisbursementGross MIS_Status  \n",
       "12           1      N         253400.00      P I F  \n",
       "24           1      N         137300.00      P I F  \n",
       "28           1      N         438541.00      P I F  \n",
       "30           1      N          51440.00      P I F  \n",
       "32           1      N          50000.00      P I F  "
      ]
     },
     "execution_count": 15,
     "metadata": {},
     "output_type": "execute_result"
    }
   ],
   "source": [
    "# Using the function again\n",
    "SBA_df['DisbursementGross'] = SBA_df['DisbursementGross'].str.replace(',', '', regex=True)\n",
    "SBA_df.head()"
   ]
  },
  {
   "cell_type": "code",
   "execution_count": 16,
   "id": "4972ba0d",
   "metadata": {},
   "outputs": [
    {
     "data": {
      "text/html": [
       "<div>\n",
       "<style scoped>\n",
       "    .dataframe tbody tr th:only-of-type {\n",
       "        vertical-align: middle;\n",
       "    }\n",
       "\n",
       "    .dataframe tbody tr th {\n",
       "        vertical-align: top;\n",
       "    }\n",
       "\n",
       "    .dataframe thead th {\n",
       "        text-align: right;\n",
       "    }\n",
       "</style>\n",
       "<table border=\"1\" class=\"dataframe\">\n",
       "  <thead>\n",
       "    <tr style=\"text-align: right;\">\n",
       "      <th></th>\n",
       "      <th>State</th>\n",
       "      <th>BankState</th>\n",
       "      <th>NAICS</th>\n",
       "      <th>ApprovalFY</th>\n",
       "      <th>Term</th>\n",
       "      <th>NoEmp</th>\n",
       "      <th>NewExist</th>\n",
       "      <th>FranchiseCode</th>\n",
       "      <th>UrbanRural</th>\n",
       "      <th>LowDoc</th>\n",
       "      <th>DisbursementGross</th>\n",
       "      <th>MIS_Status</th>\n",
       "    </tr>\n",
       "  </thead>\n",
       "  <tbody>\n",
       "    <tr>\n",
       "      <th>12</th>\n",
       "      <td>NC</td>\n",
       "      <td>MN</td>\n",
       "      <td>445299</td>\n",
       "      <td>2006</td>\n",
       "      <td>162</td>\n",
       "      <td>2</td>\n",
       "      <td>2.0</td>\n",
       "      <td>15100</td>\n",
       "      <td>1</td>\n",
       "      <td>N</td>\n",
       "      <td>253400</td>\n",
       "      <td>P I F</td>\n",
       "    </tr>\n",
       "    <tr>\n",
       "      <th>24</th>\n",
       "      <td>AR</td>\n",
       "      <td>MS</td>\n",
       "      <td>722211</td>\n",
       "      <td>2006</td>\n",
       "      <td>126</td>\n",
       "      <td>7</td>\n",
       "      <td>1.0</td>\n",
       "      <td>1</td>\n",
       "      <td>1</td>\n",
       "      <td>N</td>\n",
       "      <td>137300</td>\n",
       "      <td>P I F</td>\n",
       "    </tr>\n",
       "    <tr>\n",
       "      <th>28</th>\n",
       "      <td>CA</td>\n",
       "      <td>SD</td>\n",
       "      <td>611110</td>\n",
       "      <td>2006</td>\n",
       "      <td>83</td>\n",
       "      <td>18</td>\n",
       "      <td>2.0</td>\n",
       "      <td>1</td>\n",
       "      <td>1</td>\n",
       "      <td>N</td>\n",
       "      <td>438541</td>\n",
       "      <td>P I F</td>\n",
       "    </tr>\n",
       "    <tr>\n",
       "      <th>30</th>\n",
       "      <td>FL</td>\n",
       "      <td>FL</td>\n",
       "      <td>238140</td>\n",
       "      <td>2006</td>\n",
       "      <td>84</td>\n",
       "      <td>4</td>\n",
       "      <td>1.0</td>\n",
       "      <td>1</td>\n",
       "      <td>1</td>\n",
       "      <td>N</td>\n",
       "      <td>51440</td>\n",
       "      <td>P I F</td>\n",
       "    </tr>\n",
       "    <tr>\n",
       "      <th>32</th>\n",
       "      <td>LA</td>\n",
       "      <td>LA</td>\n",
       "      <td>532490</td>\n",
       "      <td>2006</td>\n",
       "      <td>60</td>\n",
       "      <td>3</td>\n",
       "      <td>1.0</td>\n",
       "      <td>1</td>\n",
       "      <td>1</td>\n",
       "      <td>N</td>\n",
       "      <td>50000</td>\n",
       "      <td>P I F</td>\n",
       "    </tr>\n",
       "  </tbody>\n",
       "</table>\n",
       "</div>"
      ],
      "text/plain": [
       "   State BankState   NAICS  ApprovalFY  Term  NoEmp  NewExist  FranchiseCode  \\\n",
       "12    NC        MN  445299        2006   162      2       2.0          15100   \n",
       "24    AR        MS  722211        2006   126      7       1.0              1   \n",
       "28    CA        SD  611110        2006    83     18       2.0              1   \n",
       "30    FL        FL  238140        2006    84      4       1.0              1   \n",
       "32    LA        LA  532490        2006    60      3       1.0              1   \n",
       "\n",
       "    UrbanRural LowDoc DisbursementGross MIS_Status  \n",
       "12           1      N            253400      P I F  \n",
       "24           1      N            137300      P I F  \n",
       "28           1      N            438541      P I F  \n",
       "30           1      N             51440      P I F  \n",
       "32           1      N             50000      P I F  "
      ]
     },
     "execution_count": 16,
     "metadata": {},
     "output_type": "execute_result"
    }
   ],
   "source": [
    "#Stripping the .00 on all values by removing the last three characters. https://stackoverflow.com/questions/60229544/remove-last-char-in-a-string-for-each-row-in-pandas-df\n",
    "SBA_df['DisbursementGross'] = SBA_df['DisbursementGross'].str[:-3]\n",
    "SBA_df.head()"
   ]
  },
  {
   "cell_type": "code",
   "execution_count": 17,
   "id": "786dfb4c",
   "metadata": {},
   "outputs": [
    {
     "name": "stdout",
     "output_type": "stream",
     "text": [
      "<class 'pandas.core.frame.DataFrame'>\n",
      "Int64Index: 423820 entries, 12 to 896096\n",
      "Data columns (total 12 columns):\n",
      " #   Column             Non-Null Count   Dtype  \n",
      "---  ------             --------------   -----  \n",
      " 0   State              423820 non-null  object \n",
      " 1   BankState          423820 non-null  object \n",
      " 2   NAICS              423820 non-null  int64  \n",
      " 3   ApprovalFY         423820 non-null  int64  \n",
      " 4   Term               423820 non-null  int64  \n",
      " 5   NoEmp              423820 non-null  int64  \n",
      " 6   NewExist           423820 non-null  float64\n",
      " 7   FranchiseCode      423820 non-null  int64  \n",
      " 8   UrbanRural         423820 non-null  int64  \n",
      " 9   LowDoc             423820 non-null  object \n",
      " 10  DisbursementGross  423820 non-null  int64  \n",
      " 11  MIS_Status         423820 non-null  object \n",
      "dtypes: float64(1), int64(7), object(4)\n",
      "memory usage: 42.0+ MB\n"
     ]
    }
   ],
   "source": [
    "#Converting the column into an integer type with the astype() function\n",
    "SBA_df['DisbursementGross'] = SBA_df['DisbursementGross'].astype(np.int64)\n",
    "SBA_df.info()"
   ]
  },
  {
   "cell_type": "code",
   "execution_count": 18,
   "id": "2e3eacd7",
   "metadata": {},
   "outputs": [
    {
     "data": {
      "text/html": [
       "<div>\n",
       "<style scoped>\n",
       "    .dataframe tbody tr th:only-of-type {\n",
       "        vertical-align: middle;\n",
       "    }\n",
       "\n",
       "    .dataframe tbody tr th {\n",
       "        vertical-align: top;\n",
       "    }\n",
       "\n",
       "    .dataframe thead th {\n",
       "        text-align: right;\n",
       "    }\n",
       "</style>\n",
       "<table border=\"1\" class=\"dataframe\">\n",
       "  <thead>\n",
       "    <tr style=\"text-align: right;\">\n",
       "      <th></th>\n",
       "      <th>State</th>\n",
       "      <th>BankState</th>\n",
       "      <th>NAICS</th>\n",
       "      <th>ApprovalFY</th>\n",
       "      <th>Term</th>\n",
       "      <th>NoEmp</th>\n",
       "      <th>NewExist</th>\n",
       "      <th>FranchiseCode</th>\n",
       "      <th>UrbanRural</th>\n",
       "      <th>LowDoc</th>\n",
       "      <th>DisbursementGross</th>\n",
       "      <th>MIS_Status</th>\n",
       "    </tr>\n",
       "  </thead>\n",
       "  <tbody>\n",
       "    <tr>\n",
       "      <th>12</th>\n",
       "      <td>NC</td>\n",
       "      <td>MN</td>\n",
       "      <td>445299</td>\n",
       "      <td>2006</td>\n",
       "      <td>162</td>\n",
       "      <td>2</td>\n",
       "      <td>2.0</td>\n",
       "      <td>15100</td>\n",
       "      <td>1</td>\n",
       "      <td>N</td>\n",
       "      <td>253400</td>\n",
       "      <td>P I F</td>\n",
       "    </tr>\n",
       "    <tr>\n",
       "      <th>24</th>\n",
       "      <td>AR</td>\n",
       "      <td>MS</td>\n",
       "      <td>722211</td>\n",
       "      <td>2006</td>\n",
       "      <td>126</td>\n",
       "      <td>7</td>\n",
       "      <td>1.0</td>\n",
       "      <td>1</td>\n",
       "      <td>1</td>\n",
       "      <td>N</td>\n",
       "      <td>137300</td>\n",
       "      <td>P I F</td>\n",
       "    </tr>\n",
       "    <tr>\n",
       "      <th>28</th>\n",
       "      <td>CA</td>\n",
       "      <td>SD</td>\n",
       "      <td>611110</td>\n",
       "      <td>2006</td>\n",
       "      <td>83</td>\n",
       "      <td>18</td>\n",
       "      <td>2.0</td>\n",
       "      <td>1</td>\n",
       "      <td>1</td>\n",
       "      <td>N</td>\n",
       "      <td>438541</td>\n",
       "      <td>P I F</td>\n",
       "    </tr>\n",
       "    <tr>\n",
       "      <th>30</th>\n",
       "      <td>FL</td>\n",
       "      <td>FL</td>\n",
       "      <td>238140</td>\n",
       "      <td>2006</td>\n",
       "      <td>84</td>\n",
       "      <td>4</td>\n",
       "      <td>1.0</td>\n",
       "      <td>1</td>\n",
       "      <td>1</td>\n",
       "      <td>N</td>\n",
       "      <td>51440</td>\n",
       "      <td>P I F</td>\n",
       "    </tr>\n",
       "    <tr>\n",
       "      <th>32</th>\n",
       "      <td>LA</td>\n",
       "      <td>LA</td>\n",
       "      <td>532490</td>\n",
       "      <td>2006</td>\n",
       "      <td>60</td>\n",
       "      <td>3</td>\n",
       "      <td>1.0</td>\n",
       "      <td>1</td>\n",
       "      <td>1</td>\n",
       "      <td>N</td>\n",
       "      <td>50000</td>\n",
       "      <td>P I F</td>\n",
       "    </tr>\n",
       "  </tbody>\n",
       "</table>\n",
       "</div>"
      ],
      "text/plain": [
       "   State BankState   NAICS  ApprovalFY  Term  NoEmp  NewExist  FranchiseCode  \\\n",
       "12    NC        MN  445299        2006   162      2       2.0          15100   \n",
       "24    AR        MS  722211        2006   126      7       1.0              1   \n",
       "28    CA        SD  611110        2006    83     18       2.0              1   \n",
       "30    FL        FL  238140        2006    84      4       1.0              1   \n",
       "32    LA        LA  532490        2006    60      3       1.0              1   \n",
       "\n",
       "    UrbanRural LowDoc  DisbursementGross MIS_Status  \n",
       "12           1      N             253400      P I F  \n",
       "24           1      N             137300      P I F  \n",
       "28           1      N             438541      P I F  \n",
       "30           1      N              51440      P I F  \n",
       "32           1      N              50000      P I F  "
      ]
     },
     "execution_count": 18,
     "metadata": {},
     "output_type": "execute_result"
    }
   ],
   "source": [
    "#Testing if the data looks fine\n",
    "SBA_df.head()"
   ]
  },
  {
   "cell_type": "markdown",
   "id": "53c8e68f",
   "metadata": {},
   "source": [
    "### NewExist"
   ]
  },
  {
   "cell_type": "code",
   "execution_count": 19,
   "id": "ce9638aa",
   "metadata": {},
   "outputs": [
    {
     "name": "stdout",
     "output_type": "stream",
     "text": [
      "Counter({1.0: 301987, 2.0: 121512, 0.0: 321})\n"
     ]
    }
   ],
   "source": [
    "#First we count the different number of occurences of each value type\n",
    "from collections import Counter\n",
    "counts = Counter(SBA_df['NewExist'])\n",
    "print(counts)"
   ]
  },
  {
   "cell_type": "code",
   "execution_count": 20,
   "id": "dc7529f8",
   "metadata": {},
   "outputs": [
    {
     "name": "stdout",
     "output_type": "stream",
     "text": [
      "Counter({1.0: 301987, 2.0: 121512})\n"
     ]
    }
   ],
   "source": [
    "# NewExist has three types of values. 0, 1 and 2. 0 is equal null. 1 and 2 are true values. https://stackoverflow.com/questions/49841989/python-drop-value-0-row-in-specific-columns\n",
    "SBA_df = SBA_df.loc[SBA_df['NewExist'] != 0]\n",
    "\n",
    "print(Counter(SBA_df['NewExist']))\n",
    "#We can see how there is no more 0 values."
   ]
  },
  {
   "cell_type": "code",
   "execution_count": 21,
   "id": "d951ed6c",
   "metadata": {},
   "outputs": [
    {
     "name": "stdout",
     "output_type": "stream",
     "text": [
      "<class 'pandas.core.frame.DataFrame'>\n",
      "Int64Index: 423499 entries, 12 to 896096\n",
      "Data columns (total 12 columns):\n",
      " #   Column             Non-Null Count   Dtype \n",
      "---  ------             --------------   ----- \n",
      " 0   State              423499 non-null  object\n",
      " 1   BankState          423499 non-null  object\n",
      " 2   NAICS              423499 non-null  int64 \n",
      " 3   ApprovalFY         423499 non-null  int64 \n",
      " 4   Term               423499 non-null  int64 \n",
      " 5   NoEmp              423499 non-null  int64 \n",
      " 6   NewExist           423499 non-null  int64 \n",
      " 7   FranchiseCode      423499 non-null  int64 \n",
      " 8   UrbanRural         423499 non-null  int64 \n",
      " 9   LowDoc             423499 non-null  object\n",
      " 10  DisbursementGross  423499 non-null  int64 \n",
      " 11  MIS_Status         423499 non-null  object\n",
      "dtypes: int64(8), object(4)\n",
      "memory usage: 42.0+ MB\n"
     ]
    }
   ],
   "source": [
    "# Using the astype() function to change the data type. https://www.geeksforgeeks.org/python-pandas-dataframe-astype/\n",
    "SBA_df['NewExist'] = SBA_df['NewExist'].astype(np.int64)\n",
    "SBA_df.info()"
   ]
  },
  {
   "cell_type": "markdown",
   "id": "6ba8e1be",
   "metadata": {},
   "source": [
    "### Franchise code"
   ]
  },
  {
   "cell_type": "code",
   "execution_count": 22,
   "id": "99513be3",
   "metadata": {
    "scrolled": true
   },
   "outputs": [
    {
     "name": "stdout",
     "output_type": "stream",
     "text": [
      "Counter({1: 241136, 0: 161068, 78760: 1592, 68020: 1380, 17998: 501, 25650: 295, 50564: 266, 21420: 244, 81612: 228, 21780: 218, 79140: 202, 77174: 198, 84535: 196, 65140: 168, 52000: 164, 16920: 163, 22470: 162, 24850: 153, 9050: 136, 19755: 133, 38605: 131, 73675: 120, 67750: 120, 89769: 110, 10734: 108, 1350: 108, 1560: 106, 61901: 104, 68250: 104, 35706: 103, 53650: 100, 75710: 98, 52875: 96, 4516: 94, 43579: 94, 10465: 93, 50954: 93, 39598: 92, 26871: 92, 20550: 89, 51720: 89, 79902: 89, 48000: 87, 55120: 83, 21425: 81, 70130: 81, 48400: 80, 17205: 80, 68021: 79, 83882: 74, 34650: 72, 67735: 72, 49952: 68, 31415: 68, 26650: 65, 66910: 64, 10528: 63, 66320: 62, 48450: 61, 73525: 60, 59450: 60, 80025: 58, 16310: 57, 48260: 57, 36680: 56, 75988: 55, 70554: 54, 3512: 54, 61897: 52, 73000: 52, 9450: 52, 29600: 51, 25360: 51, 80979: 51, 15100: 50, 34845: 50, 67417: 50, 31154: 50, 53250: 49, 74789: 49, 91280: 49, 70405: 48, 83450: 48, 39555: 48, 44081: 47, 38601: 47, 29585: 47, 29912: 47, 63810: 46, 43552: 46, 10494: 45, 68150: 44, 41850: 44, 46413: 43, 10605: 43, 30233: 43, 10611: 43, 15713: 43, 45495: 42, 6560: 41, 34850: 41, 15710: 40, 44045: 40, 64205: 40, 75900: 39, 50140: 39, 55185: 39, 67759: 38, 35711: 38, 41298: 38, 65150: 37, 27765: 36, 52855: 36, 3490: 35, 53165: 35, 71456: 34, 69149: 34, 38600: 34, 68060: 33, 65160: 33, 69058: 33, 407: 33, 80085: 33, 41455: 33, 61400: 32, 20750: 32, 54600: 32, 76282: 32, 56575: 32, 65152: 32, 33570: 32, 56824: 32, 65925: 31, 82360: 31, 56885: 31, 54100: 31, 23379: 31, 84025: 30, 52707: 30, 62907: 30, 38615: 30, 74750: 30, 70671: 30, 17049: 30, 28877: 30, 38510: 29, 65145: 29, 45150: 29, 70670: 29, 60020: 29, 34830: 29, 10643: 29, 10622: 28, 78950: 28, 89785: 28, 75385: 28, 17150: 28, 42580: 28, 20359: 28, 5725: 28, 73900: 28, 36204: 27, 50850: 27, 67255: 27, 2357: 27, 67753: 27, 89630: 27, 10685: 27, 23000: 27, 81630: 26, 10776: 26, 89352: 25, 10481: 25, 35705: 25, 25656: 25, 26685: 25, 89639: 25, 64211: 25, 9802: 24, 17524: 24, 75000: 24, 56925: 24, 58910: 24, 34459: 23, 5650: 23, 70150: 23, 52070: 23, 66643: 23, 81555: 23, 90709: 22, 16033: 22, 45479: 22, 79950: 22, 452: 22, 56230: 22, 34900: 22, 8015: 21, 9130: 21, 64870: 21, 66615: 21, 52900: 21, 81570: 21, 74770: 21, 39700: 20, 10691: 20, 90900: 20, 52018: 20, 66345: 20, 79153: 20, 39590: 20, 18925: 20, 55955: 20, 17460: 20, 72590: 20, 64990: 20, 35605: 20, 29900: 20, 69134: 20, 4160: 20, 20718: 20, 66347: 20, 45455: 19, 55193: 19, 9708: 19, 18126: 19, 45496: 19, 30215: 19, 24957: 19, 30210: 18, 9202: 18, 36260: 18, 59550: 18, 40665: 18, 10572: 18, 88875: 18, 3518: 18, 35610: 18, 55990: 18, 6305: 18, 64857: 18, 51570: 17, 6410: 17, 10200: 17, 88355: 17, 17900: 17, 20122: 17, 42600: 17, 4150: 17, 81601: 17, 63010: 17, 10625: 17, 78755: 17, 10741: 16, 75719: 16, 60590: 16, 89775: 16, 64882: 16, 43302: 16, 21037: 16, 32125: 16, 52891: 16, 45915: 16, 81550: 16, 85325: 15, 33170: 15, 89655: 15, 8023: 15, 33470: 15, 24745: 15, 29976: 15, 81597: 15, 24027: 15, 950: 15, 54390: 15, 57270: 15, 89629: 15, 34655: 15, 77875: 15, 84105: 15, 28953: 15, 89638: 15, 6505: 15, 62753: 14, 43351: 14, 46885: 14, 35703: 14, 9118: 14, 26556: 14, 85353: 14, 59225: 14, 55519: 14, 49200: 14, 21735: 14, 67715: 14, 54300: 14, 25438: 14, 30811: 14, 36440: 14, 64950: 13, 76955: 13, 58723: 13, 51560: 13, 43555: 13, 54005: 13, 50965: 13, 30229: 13, 86724: 13, 43783: 13, 2932: 13, 16455: 13, 19550: 13, 39238: 13, 15980: 13, 22475: 13, 47210: 13, 81965: 12, 401: 12, 50040: 12, 52956: 12, 90800: 12, 80377: 12, 55960: 12, 72683: 12, 50520: 12, 47756: 12, 10686: 12, 46455: 12, 21400: 12, 47500: 12, 89640: 12, 91253: 12, 17230: 12, 71669: 12, 80360: 12, 21165: 12, 36560: 12, 14858: 12, 20705: 12, 4154: 12, 31150: 12, 74305: 12, 29520: 12, 74005: 12, 72684: 12, 85100: 11, 26575: 11, 29582: 11, 66200: 11, 6140: 11, 51702: 11, 68880: 11, 84060: 11, 69146: 11, 61627: 11, 10570: 11, 75100: 11, 20710: 11, 88913: 11, 24260: 11, 67767: 11, 42530: 11, 91283: 11, 78759: 11, 36355: 10, 68911: 10, 65141: 10, 53680: 10, 90909: 10, 46414: 10, 57000: 10, 84090: 10, 37481: 10, 24039: 10, 61384: 10, 35326: 10, 34654: 10, 77890: 10, 79152: 10, 70552: 10, 11245: 10, 44065: 10, 25668: 10, 64976: 10, 57601: 10, 47400: 10, 58686: 10, 84273: 10, 75982: 9, 46408: 9, 8045: 9, 71658: 9, 18000: 9, 46561: 9, 84725: 9, 84300: 9, 75355: 9, 10474: 9, 4745: 9, 52300: 9, 85029: 9, 68905: 9, 800: 9, 82040: 9, 67280: 9, 17646: 9, 18510: 9, 80300: 9, 50930: 9, 20725: 9, 81800: 9, 43571: 9, 58615: 9, 37500: 9, 58616: 9, 38750: 9, 71455: 9, 62360: 9, 90875: 9, 80850: 9, 71947: 9, 16868: 9, 64654: 9, 38770: 9, 7969: 9, 78329: 9, 10676: 8, 15668: 8, 84323: 8, 50845: 8, 24030: 8, 44066: 8, 23110: 8, 10708: 8, 64853: 8, 55650: 8, 68179: 8, 38765: 8, 36745: 8, 85304: 8, 71660: 8, 36752: 8, 73795: 8, 89624: 8, 47406: 8, 90815: 8, 74820: 8, 61389: 8, 78059: 8, 49975: 8, 39237: 8, 70879: 8, 30505: 8, 47426: 8, 28960: 8, 77410: 8, 65149: 8, 10556: 7, 20487: 7, 84077: 7, 67966: 7, 41454: 7, 46815: 7, 3500: 7, 73793: 7, 78330: 7, 56884: 7, 41300: 7, 44890: 7, 21580: 7, 9235: 7, 68363: 7, 66350: 7, 23115: 7, 10484: 7, 70128: 7, 87347: 7, 60525: 7, 64765: 7, 84260: 7, 6131: 7, 62751: 7, 10690: 7, 10703: 7, 28954: 7, 50860: 7, 72377: 7, 35626: 7, 71194: 7, 72990: 7, 9230: 7, 32130: 7, 65250: 7, 4452: 7, 74410: 7, 17584: 7, 16867: 7, 82500: 7, 51500: 7, 52240: 7, 26135: 7, 65100: 7, 29009: 7, 420: 7, 46550: 7, 9800: 7, 84495: 7, 1497: 7, 17050: 7, 43347: 7, 4250: 7, 61401: 7, 75432: 7, 70875: 7, 76277: 7, 36002: 6, 78325: 6, 10729: 6, 10603: 6, 77027: 6, 40666: 6, 26879: 6, 29578: 6, 68876: 6, 10609: 6, 41433: 6, 45955: 6, 84255: 6, 64900: 6, 44062: 6, 67420: 6, 28882: 6, 10533: 6, 72515: 6, 9651: 6, 29125: 6, 59560: 6, 15996: 6, 1357: 6, 31300: 6, 37474: 6, 43584: 6, 79169: 6, 50525: 6, 64200: 6, 18160: 6, 50530: 6, 15919: 6, 58724: 6, 37000: 6, 63345: 6, 72495: 6, 46345: 6, 44725: 6, 51805: 6, 67748: 6, 77725: 6, 42596: 6, 77885: 6, 50560: 6, 10574: 6, 22678: 6, 75460: 6, 3892: 6, 54400: 6, 89350: 6, 69995: 6, 71000: 6, 58726: 6, 84305: 6, 79113: 6, 50565: 6, 60800: 6, 1494: 6, 46055: 6, 41427: 6, 24002: 6, 62343: 5, 70651: 5, 90708: 5, 20124: 5, 26553: 5, 88230: 5, 75410: 5, 79305: 5, 37051: 5, 32195: 5, 82296: 5, 46336: 5, 10682: 5, 18927: 5, 55815: 5, 65953: 5, 18898: 5, 24419: 5, 91297: 5, 42610: 5, 23104: 5, 76188: 5, 37469: 5, 74782: 5, 61299: 5, 73516: 5, 17586: 5, 38614: 5, 61253: 5, 3: 5, 16275: 5, 81606: 5, 485: 5, 10615: 5, 87075: 5, 26870: 5, 20715: 5, 67434: 5, 395: 5, 35500: 5, 32418: 5, 75917: 5, 66486: 5, 89641: 5, 44350: 5, 70129: 5, 71010: 5, 70556: 5, 45505: 5, 88660: 5, 52898: 5, 66694: 5, 39234: 5, 86690: 5, 53316: 5, 56221: 5, 57285: 5, 16905: 5, 65845: 5, 16280: 5, 33125: 5, 80190: 5, 60753: 5, 82616: 5, 67219: 5, 38240: 5, 8024: 5, 8010: 5, 29730: 5, 17215: 5, 900: 5, 51721: 5, 89636: 5, 35300: 5, 45912: 5, 72690: 5, 34550: 5, 53325: 5, 16035: 5, 35620: 5, 5549: 5, 28955: 5, 24460: 5, 82426: 5, 91169: 5, 10580: 5, 3553: 5, 72518: 5, 89665: 5, 64985: 4, 19118: 4, 1493: 4, 40701: 4, 77380: 4, 53657: 4, 10737: 4, 66190: 4, 20546: 4, 31243: 4, 4162: 4, 17669: 4, 42599: 4, 66450: 4, 6620: 4, 16314: 4, 10489: 4, 89652: 4, 7925: 4, 60567: 4, 15823: 4, 88310: 4, 20100: 4, 34060: 4, 38755: 4, 84319: 4, 67430: 4, 79105: 4, 34849: 4, 61885: 4, 10649: 4, 37525: 4, 61391: 4, 56800: 4, 74000: 4, 30757: 4, 41010: 4, 17581: 4, 17590: 4, 62150: 4, 89626: 4, 26560: 4, 9806: 4, 78057: 4, 22676: 4, 52245: 4, 83877: 4, 33185: 4, 45500: 4, 88901: 4, 24001: 4, 79301: 4, 19662: 4, 4251: 4, 44033: 4, 80374: 4, 81960: 4, 30204: 4, 30208: 4, 78650: 4, 40475: 4, 64975: 4, 44053: 4, 90715: 4, 15922: 4, 73086: 4, 10656: 4, 81623: 4, 76185: 4, 27400: 4, 17657: 4, 61906: 4, 91168: 4, 60235: 4, 40650: 4, 10666: 4, 73523: 4, 15697: 4, 26145: 4, 39594: 4, 81603: 4, 50523: 4, 17985: 4, 37460: 4, 6829: 4, 64609: 4, 8656: 4, 79730: 4, 33210: 4, 77899: 4, 86488: 4, 42800: 4, 78237: 4, 68864: 4, 32075: 4, 2360: 4, 38560: 4, 10719: 4, 82150: 4, 19655: 4, 13008: 4, 58713: 4, 27255: 4, 36756: 4, 76270: 4, 55512: 4, 25850: 4, 80380: 4, 56880: 4, 70649: 4, 57300: 4, 59505: 4, 89020: 4, 58650: 4, 10700: 4, 71675: 4, 2103: 4, 52860: 4, 52015: 4, 15353: 4, 92006: 4, 28911: 4, 62900: 4, 69075: 4, 23997: 3, 2105: 3, 10501: 3, 35685: 3, 2930: 3, 49855: 3, 40704: 3, 36758: 3, 35619: 3, 23375: 3, 22680: 3, 1502: 3, 64755: 3, 64977: 3, 26876: 3, 82234: 3, 10482: 3, 60275: 3, 85300: 3, 10521: 3, 44037: 3, 10559: 3, 15279: 3, 66641: 3, 66160: 3, 30226: 3, 44729: 3, 74302: 3, 10648: 3, 85322: 3, 81961: 3, 33485: 3, 73748: 3, 23003: 3, 42000: 3, 17587: 3, 69110: 3, 68255: 3, 80500: 3, 22368: 3, 78340: 3, 9234: 3, 40659: 3, 90700: 3, 70008: 3, 29523: 3, 64212: 3, 46061: 3, 45100: 3, 416: 3, 10692: 3, 8046: 3, 62752: 3, 10626: 3, 80250: 3, 6125: 3, 85505: 3, 68030: 3, 24003: 3, 54010: 3, 20728: 3, 47735: 3, 32210: 3, 29237: 3, 78384: 3, 69147: 3, 53651: 3, 1495: 3, 8044: 3, 81790: 3, 37060: 3, 62760: 3, 10652: 3, 69805: 3, 16916: 3, 43750: 3, 35307: 3, 80604: 3, 50949: 3, 10483: 3, 39245: 3, 41306: 3, 55202: 3, 61898: 3, 71673: 3, 38606: 3, 32046: 3, 58795: 3, 56920: 3, 46415: 3, 18115: 3, 20780: 3, 21781: 3, 43200: 3, 80159: 3, 36995: 3, 10529: 3, 85360: 3, 91110: 3, 69121: 3, 33750: 3, 24420: 3, 81591: 3, 74407: 3, 15808: 3, 20105: 3, 4163: 3, 15924: 3, 56480: 3, 48805: 3, 56839: 3, 36753: 3, 54210: 3, 73760: 3, 86720: 3, 72594: 3, 60750: 3, 2885: 3, 72685: 3, 84321: 3, 61295: 3, 40660: 3, 33560: 3, 20970: 3, 77175: 3, 20958: 3, 23100: 3, 39300: 3, 42586: 3, 62100: 3, 5670: 3, 2354: 3, 66690: 3, 3515: 3, 2359: 3, 66605: 3, 72215: 3, 22687: 3, 24902: 3, 23376: 3, 53300: 3, 38590: 3, 90979: 3, 62452: 3, 90725: 2, 40472: 2, 42520: 2, 32074: 2, 79165: 2, 2929: 2, 14348: 2, 32077: 2, 55524: 2, 84042: 2, 64656: 2, 51778: 2, 9201: 2, 78750: 2, 47759: 2, 70125: 2, 88904: 2, 69998: 2, 67400: 2, 42629: 2, 35629: 2, 28229: 2, 36564: 2, 35627: 2, 50535: 2, 63175: 2, 24959: 2, 43700: 2, 91350: 2, 10476: 2, 48550: 2, 72595: 2, 81582: 2, 45919: 2, 34659: 2, 67441: 2, 26883: 2, 71684: 2, 38598: 2, 16458: 2, 34513: 2, 27259: 2, 10701: 2, 50039: 2, 32071: 2, 40718: 2, 20720: 2, 399: 2, 35634: 2, 2107: 2, 55430: 2, 69564: 2, 76418: 2, 69130: 2, 44067: 2, 25562: 2, 71946: 2, 62950: 2, 81611: 2, 8002: 2, 28228: 2, 67742: 2, 64978: 2, 4074: 2, 46401: 2, 78366: 2, 24845: 2, 60804: 2, 17265: 2, 35624: 2, 47996: 2, 2100: 2, 43587: 2, 46322: 2, 81621: 2, 414: 2, 35625: 2, 23122: 2, 64657: 2, 470: 2, 43788: 2, 33165: 2, 10670: 2, 89634: 2, 33194: 2, 50655: 2, 21025: 2, 10854: 2, 52004: 2, 71169: 2, 52413: 2, 56016: 2, 34838: 2, 79897: 2, 35710: 2, 419: 2, 16034: 2, 50581: 2, 10647: 2, 78758: 2, 10604: 2, 20960: 2, 90956: 2, 68147: 2, 67746: 2, 35713: 2, 10502: 2, 70757: 2, 60234: 2, 66900: 2, 89208: 2, 21428: 2, 10794: 2, 42525: 2, 24654: 2, 22677: 2, 41310: 2, 52007: 2, 81906: 2, 89648: 2, 69560: 2, 55212: 2, 3560: 2, 80989: 2, 29524: 2, 8247: 2, 68180: 2, 43568: 2, 72380: 2, 84522: 2, 61895: 2, 64883: 2, 71937: 2, 37066: 2, 38500: 2, 89649: 2, 19661: 2, 40462: 2, 76285: 2, 28900: 2, 88312: 2, 79907: 2, 91450: 2, 17219: 2, 32136: 2, 28350: 2, 62455: 2, 22690: 2, 25404: 2, 64886: 2, 60752: 2, 52419: 2, 79720: 2, 9650: 2, 89645: 2, 79220: 2, 78120: 2, 835: 2, 10581: 2, 84088: 2, 37439: 2, 71696: 2, 28443: 2, 64981: 2, 41400: 2, 35714: 2, 1525: 2, 39247: 2, 56223: 2, 62925: 2, 37468: 2, 20149: 2, 79121: 2, 67177: 2, 64219: 2, 34837: 2, 56915: 2, 46425: 2, 79625: 2, 39560: 2, 78756: 2, 10577: 2, 89650: 2, 48500: 2, 67723: 2, 89628: 2, 50150: 2, 32200: 2, 64750: 2, 57117: 2, 9200: 2, 69143: 2, 9225: 2, 71705: 2, 47850: 2, 74180: 2, 70655: 2, 76340: 2, 63897: 2, 36214: 2, 71670: 2, 45806: 2, 46651: 2, 16180: 2, 10607: 2, 18140: 2, 59880: 2, 65496: 2, 46056: 2, 35600: 2, 56878: 2, 63856: 2, 10461: 2, 10456: 2, 70755: 2, 83938: 2, 9110: 2, 61398: 2, 75160: 2, 66355: 2, 55220: 2, 50569: 2, 82220: 2, 8658: 2, 21700: 2, 36754: 2, 54200: 2, 40464: 2, 4760: 2, 81575: 2, 33747: 2, 50990: 2, 34450: 2, 74747: 2, 1496: 2, 27555: 2, 47751: 2, 42625: 2, 27260: 2, 54640: 2, 80350: 2, 65156: 2, 15925: 2, 69140: 2, 8659: 2, 4065: 2, 15716: 2, 63860: 2, 1555: 2, 90885: 2, 76710: 2, 46250: 2, 77420: 2, 25383: 2, 76755: 2, 16267: 2, 6063: 2, 40711: 2, 30207: 2, 10689: 2, 39294: 2, 68173: 2, 50028: 1, 59883: 1, 16313: 1, 71685: 1, 30200: 1, 41299: 1, 58618: 1, 17870: 1, 43582: 1, 36757: 1, 20549: 1, 61603: 1, 87429: 1, 76346: 1, 50567: 1, 20941: 1, 76149: 1, 54643: 1, 24274: 1, 84093: 1, 89658: 1, 9237: 1, 4252: 1, 69806: 1, 61214: 1, 68219: 1, 53660: 1, 55427: 1, 4262: 1, 89637: 1, 60232: 1, 46050: 1, 21177: 1, 85363: 1, 20484: 1, 31225: 1, 10614: 1, 21804: 1, 25366: 1, 36003: 1, 6153: 1, 51956: 1, 1503: 1, 55652: 1, 31227: 1, 38608: 1, 7596: 1, 39242: 1, 34061: 1, 28233: 1, 48606: 1, 63187: 1, 78337: 1, 35306: 1, 44600: 1, 8054: 1, 35323: 1, 81614: 1, 60026: 1, 25417: 1, 3708: 1, 49753: 1, 63863: 1, 42639: 1, 44009: 1, 6559: 1, 84339: 1, 84094: 1, 9246: 1, 9228: 1, 87344: 1, 16038: 1, 61890: 1, 28232: 1, 10560: 1, 20944: 1, 69543: 1, 88404: 1, 44072: 1, 27760: 1, 38209: 1, 21870: 1, 87587: 1, 63150: 1, 49272: 1, 46199: 1, 80384: 1, 14528: 1, 61896: 1, 86728: 1, 10720: 1, 9227: 1, 24700: 1, 44005: 1, 10550: 1, 22684: 1, 74804: 1, 10598: 1, 72592: 1, 944: 1, 32053: 1, 83347: 1, 9233: 1, 46720: 1, 80030: 1, 62756: 1, 9147: 1, 43630: 1, 68362: 1, 74760: 1, 42478: 1, 43761: 1, 24706: 1, 44052: 1, 6133: 1, 29719: 1, 70549: 1, 78060: 1, 43785: 1, 68870: 1, 62903: 1, 9801: 1, 46557: 1, 75050: 1, 62450: 1, 50909: 1, 64885: 1, 29310: 1, 29980: 1, 66660: 1, 84340: 1, 44078: 1, 41420: 1, 82139: 1, 4072: 1, 10579: 1, 30423: 1, 8653: 1, 22660: 1, 2367: 1, 70760: 1, 56836: 1, 48815: 1, 34890: 1, 37490: 1, 76279: 1, 2914: 1, 52414: 1, 34839: 1, 2918: 1, 426: 1, 66436: 1, 50078: 1, 51567: 1, 17156: 1, 63850: 1, 41307: 1, 28555: 1, 10697: 1, 59565: 1, 84324: 1, 79924: 1, 65320: 1, 10535: 1, 24414: 1, 72599: 1, 84069: 1, 6170: 1, 91424: 1, 20966: 1, 78230: 1, 28879: 1, 53286: 1, 63894: 1, 24658: 1, 39235: 1, 56890: 1, 86731: 1, 10596: 1, 7998: 1, 43578: 1, 8048: 1, 91443: 1, 4500: 1, 15602: 1, 76256: 1, 52012: 1, 47520: 1, 14179: 1, 59780: 1, 36005: 1, 51716: 1, 91446: 1, 91162: 1, 404: 1, 48032: 1, 77170: 1, 63350: 1, 82141: 1, 91423: 1, 76930: 1, 74802: 1, 20551: 1, 14424: 1, 91107: 1, 24421: 1, 68170: 1, 28124: 1, 77037: 1, 51725: 1, 84059: 1, 17627: 1, 49830: 1, 46049: 1, 91181: 1, 76959: 1, 81554: 1, 67253: 1, 24459: 1, 33187: 1, 81616: 1, 3488: 1, 55214: 1, 40476: 1, 44057: 1, 81617: 1, 91153: 1, 82228: 1, 84523: 1, 11397: 1, 11002: 1, 86738: 1, 64589: 1, 60751: 1, 17745: 1, 28236: 1, 20961: 1, 57275: 1, 64652: 1, 48501: 1, 28883: 1, 46059: 1, 10553: 1, 3890: 1, 67380: 1, 33215: 1, 10505: 1, 30469: 1, 70630: 1, 67176: 1, 56883: 1, 73650: 1, 36004: 1, 44627: 1, 84530: 1, 78331: 1, 18144: 1, 67550: 1, 17984: 1, 61919: 1, 87532: 1, 10466: 1, 28239: 1, 15700: 1, 17920: 1, 71140: 1, 39588: 1, 28935: 1, 46330: 1, 39240: 1, 45105: 1, 31252: 1, 47211: 1, 64355: 1, 61260: 1, 4259: 1, 9707: 1, 82615: 1, 81587: 1, 4256: 1, 36751: 1, 28360: 1, 44090: 1, 62750: 1, 80915: 1, 84730: 1, 51575: 1, 24461: 1, 51795: 1, 18890: 1, 63818: 1, 9149: 1, 50000: 1, 64651: 1, 78328: 1, 84320: 1, 6035: 1, 52948: 1, 39246: 1, 43570: 1, 20369: 1, 77401: 1, 37011: 1, 46660: 1, 22675: 1, 17663: 1, 30227: 1, 69144: 1, 24955: 1, 35635: 1, 28365: 1, 35320: 1, 78375: 1, 15933: 1, 17916: 1, 56819: 1, 40458: 1, 45482: 1, 9115: 1, 81620: 1, 25409: 1, 63290: 1, 76189: 1, 74301: 1, 43549: 1, 42545: 1, 52200: 1, 25558: 1, 62390: 1, 21169: 1, 61915: 1, 9700: 1, 32070: 1, 90703: 1, 50987: 1, 68079: 1, 35712: 1, 33550: 1, 29275: 1, 7965: 1, 46331: 1, 58970: 1, 48256: 1, 61605: 1, 76289: 1, 64960: 1, 36480: 1, 63640: 1, 30761: 1, 69050: 1, 28370: 1, 77190: 1, 81586: 1, 9750: 1, 49215: 1, 24035: 1, 17775: 1, 31370: 1, 10543: 1, 29579: 1, 89750: 1, 35709: 1, 3497: 1, 89627: 1, 56830: 1, 59952: 1, 70136: 1, 67712: 1, 51733: 1, 6415: 1, 34842: 1, 18888: 1, 59768: 1, 44059: 1, 79250: 1, 38158: 1, 64855: 1, 61402: 1, 1507: 1, 50950: 1, 64884: 1, 70133: 1, 61829: 1, 35702: 1, 80169: 1, 50538: 1, 44073: 1, 21430: 1, 67212: 1, 20950: 1, 21424: 1, 76411: 1, 92000: 1, 2361: 1, 59511: 1, 75380: 1, 16311: 1, 48026: 1, 42483: 1, 6132: 1, 55215: 1, 30520: 1, 42597: 1, 50528: 1, 17210: 1, 60792: 1, 5649: 1, 7990: 1, 10704: 1, 27300: 1, 46350: 1, 34465: 1, 79000: 1, 15819: 1, 9250: 1, 50566: 1, 69100: 1, 65505: 1, 20109: 1, 64658: 1, 29725: 1, 34652: 1, 32050: 1, 88320: 1, 85221: 1, 23377: 1, 24250: 1, 83900: 1, 90898: 1, 43770: 1, 75060: 1, 47435: 1, 15805: 1, 6833: 1, 39241: 1, 68175: 1, 18141: 1, 63116: 1, 10558: 1, 89632: 1, 71940: 1, 77090: 1, 46435: 1, 21180: 1, 26549: 1, 68364: 1, 20490: 1, 82147: 1, 73005: 1, 84067: 1, 28240: 1, 31144: 1, 79908: 1, 79775: 1, 2920: 1, 58575: 1, 29734: 1, 63157: 1, 48810: 1, 23378: 1, 2919: 1, 80600: 1, 67946: 1, 45950: 1, 71185: 1, 31363: 1, 65153: 1, 29581: 1, 90206: 1, 45477: 1, 51780: 1, 62349: 1, 2917: 1, 30237: 1, 66691: 1, 67190: 1, 82290: 1, 28884: 1, 89790: 1, 42636: 1, 6558: 1, 33155: 1, 26436: 1, 45953: 1, 17259: 1, 4491: 1, 88748: 1, 64664: 1, 75945: 1, 82227: 1, 37471: 1, 20962: 1, 15603: 1, 4254: 1, 60594: 1, 51950: 1, 73660: 1, 84473: 1, 17638: 1, 67959: 1, 67350: 1, 10539: 1, 81619: 1, 29914: 1, 10537: 1, 20968: 1, 50900: 1, 55680: 1, 78450: 1, 67215: 1, 33567: 1, 30206: 1, 58906: 1, 18026: 1, 80355: 1, 64997: 1, 56837: 1, 89782: 1, 4255: 1, 42474: 1, 62855: 1, 34719: 1, 8200: 1, 20108: 1, 51758: 1, 32063: 1, 20500: 1, 67275: 1, 66440: 1, 35485: 1, 8018: 1, 56574: 1, 23118: 1, 77740: 1, 77387: 1, 64959: 1, 70546: 1, 75293: 1, 85010: 1, 29738: 1, 16452: 1})\n"
     ]
    }
   ],
   "source": [
    "#Starting with counting how many instances of 0 and 1 there are. We want to add these two together, since they represent the same.\n",
    "counts = Counter(SBA_df['FranchiseCode'])\n",
    "print(counts)"
   ]
  },
  {
   "cell_type": "code",
   "execution_count": 23,
   "id": "b0ea823a",
   "metadata": {},
   "outputs": [
    {
     "name": "stdout",
     "output_type": "stream",
     "text": [
      "Counter({0: 402204, 1: 21295})\n"
     ]
    }
   ],
   "source": [
    "# Making the attribute binary. If the value is less than 2, then set the value to 0. If the value is more than 2 set the value to 1. https://www.geeksforgeeks.org/how-to-replace-values-in-column-based-on-condition-in-pandas/\n",
    "SBA_df.loc[:, 'FranchiseCode'] = SBA_df.loc[:, 'FranchiseCode'].where(SBA_df.loc[:, 'FranchiseCode'] > 2, 0)\n",
    "SBA_df.loc[:, 'FranchiseCode'] = SBA_df.loc[:, 'FranchiseCode'].where(SBA_df.loc[:, 'FranchiseCode'] < 2, 1)\n",
    "\n",
    "counts = Counter(SBA_df['FranchiseCode'])\n",
    "print(counts)"
   ]
  },
  {
   "cell_type": "markdown",
   "id": "900076e5",
   "metadata": {},
   "source": [
    "### UrbanRural"
   ]
  },
  {
   "cell_type": "code",
   "execution_count": 24,
   "id": "a3e9eaf4",
   "metadata": {},
   "outputs": [
    {
     "name": "stdout",
     "output_type": "stream",
     "text": [
      "Counter({1: 336764, 2: 81513, 0: 5222})\n"
     ]
    }
   ],
   "source": [
    "# Starting with counting the values\n",
    "counts = Counter(SBA_df['UrbanRural'])\n",
    "print(counts)"
   ]
  },
  {
   "cell_type": "code",
   "execution_count": 25,
   "id": "e523bb6b",
   "metadata": {},
   "outputs": [
    {
     "name": "stdout",
     "output_type": "stream",
     "text": [
      "Counter({1: 336764, 2: 81513})\n"
     ]
    }
   ],
   "source": [
    "# Dropping instances with 0, since 0 is undefined. Using function from NewExist\n",
    "SBA_df = SBA_df.loc[SBA_df['UrbanRural'] != 0]\n",
    "\n",
    "# Checking the result\n",
    "counts = Counter(SBA_df['UrbanRural'])\n",
    "print(counts)"
   ]
  },
  {
   "cell_type": "markdown",
   "id": "10549a80",
   "metadata": {},
   "source": [
    "### LowDoc"
   ]
  },
  {
   "cell_type": "code",
   "execution_count": 26,
   "id": "2a3d65de",
   "metadata": {},
   "outputs": [
    {
     "name": "stdout",
     "output_type": "stream",
     "text": [
      "Counter({'N': 399618, 'Y': 17716, 'S': 480, 'C': 313, 'A': 103, 'R': 45, '1': 1, '0': 1})\n"
     ]
    }
   ],
   "source": [
    "#Starting with counting the values\n",
    "counts = Counter(SBA_df['LowDoc'])\n",
    "print(counts)"
   ]
  },
  {
   "cell_type": "code",
   "execution_count": 27,
   "id": "86258f8b",
   "metadata": {},
   "outputs": [
    {
     "name": "stdout",
     "output_type": "stream",
     "text": [
      "Counter({'N': 399618, 'Y': 17716})\n"
     ]
    }
   ],
   "source": [
    "#Dropping rows with values other than 'N' or 'Y'\n",
    "SBA_df = SBA_df[SBA_df.LowDoc != 'S']\n",
    "SBA_df = SBA_df[SBA_df.LowDoc != 'C']\n",
    "SBA_df = SBA_df[SBA_df.LowDoc != 'A']\n",
    "SBA_df = SBA_df[SBA_df.LowDoc != 'R']\n",
    "SBA_df = SBA_df[SBA_df.LowDoc != '1']\n",
    "SBA_df = SBA_df[SBA_df.LowDoc != '0']\n",
    "counts = Counter(SBA_df['LowDoc'])\n",
    "print(counts)"
   ]
  },
  {
   "cell_type": "code",
   "execution_count": 28,
   "id": "13e7889c",
   "metadata": {},
   "outputs": [
    {
     "name": "stdout",
     "output_type": "stream",
     "text": [
      "Counter({0: 399618, 1: 17716})\n"
     ]
    }
   ],
   "source": [
    "# If value equals y then set the value to 1. If value equals N set the value to 0\n",
    "# Using tho loc function to locate the column, and the where function to replace values. For some reason reversed logic is applicable\n",
    "SBA_df.loc[:, 'LowDoc'] = SBA_df.loc[:, 'LowDoc'].where(SBA_df.loc[:, 'LowDoc'] != 'Y', 1)\n",
    "SBA_df.loc[:, 'LowDoc'] = SBA_df.loc[:, 'LowDoc'].where(SBA_df.loc[:, 'LowDoc'] != 'N', 0)\n",
    "\n",
    "# Cheking if all looks okay\n",
    "counts = Counter(SBA_df['LowDoc'])\n",
    "print(counts)"
   ]
  },
  {
   "cell_type": "code",
   "execution_count": 29,
   "id": "cbe20d44",
   "metadata": {},
   "outputs": [
    {
     "name": "stdout",
     "output_type": "stream",
     "text": [
      "<class 'pandas.core.frame.DataFrame'>\n",
      "Int64Index: 417334 entries, 12 to 894831\n",
      "Data columns (total 12 columns):\n",
      " #   Column             Non-Null Count   Dtype \n",
      "---  ------             --------------   ----- \n",
      " 0   State              417334 non-null  object\n",
      " 1   BankState          417334 non-null  object\n",
      " 2   NAICS              417334 non-null  int64 \n",
      " 3   ApprovalFY         417334 non-null  int64 \n",
      " 4   Term               417334 non-null  int64 \n",
      " 5   NoEmp              417334 non-null  int64 \n",
      " 6   NewExist           417334 non-null  int64 \n",
      " 7   FranchiseCode      417334 non-null  int64 \n",
      " 8   UrbanRural         417334 non-null  int64 \n",
      " 9   LowDoc             417334 non-null  int64 \n",
      " 10  DisbursementGross  417334 non-null  int64 \n",
      " 11  MIS_Status         417334 non-null  object\n",
      "dtypes: int64(9), object(3)\n",
      "memory usage: 41.4+ MB\n"
     ]
    }
   ],
   "source": [
    "#Changing the Dtype into integer from object. Using the code of line from previously. https://stackoverflow.com/questions/43956335/convert-float64-column-to-int64-in-pandas\n",
    "SBA_df['LowDoc'] = SBA_df['LowDoc'].astype(np.int64)\n",
    "SBA_df.info()"
   ]
  },
  {
   "cell_type": "markdown",
   "id": "f18736a3",
   "metadata": {},
   "source": [
    "### MIS_Status"
   ]
  },
  {
   "cell_type": "code",
   "execution_count": 30,
   "id": "0b9fb846",
   "metadata": {},
   "outputs": [
    {
     "name": "stdout",
     "output_type": "stream",
     "text": [
      "Counter({'P I F': 300489, 'CHGOFF': 116845})\n"
     ]
    }
   ],
   "source": [
    "# Counting to investigate the data.\n",
    "counts = Counter(SBA_df['MIS_Status'])\n",
    "print(counts)"
   ]
  },
  {
   "cell_type": "code",
   "execution_count": 31,
   "id": "dc93c46d",
   "metadata": {},
   "outputs": [
    {
     "name": "stdout",
     "output_type": "stream",
     "text": [
      "Counter({0: 300489, 1: 116845})\n"
     ]
    }
   ],
   "source": [
    "# Using same logic as with the Y and N in LowDoc. \n",
    "SBA_df.loc[:, 'MIS_Status'] = SBA_df.loc[:, 'MIS_Status'].where(SBA_df.loc[:, 'MIS_Status'] != 'P I F', 0)\n",
    "SBA_df.loc[:, 'MIS_Status'] = SBA_df.loc[:, 'MIS_Status'].where(SBA_df.loc[:, 'MIS_Status'] != 'CHGOFF', 1)\n",
    "counts = Counter(SBA_df['MIS_Status'])\n",
    "print(counts)"
   ]
  },
  {
   "cell_type": "code",
   "execution_count": 32,
   "id": "052514c3",
   "metadata": {},
   "outputs": [
    {
     "name": "stdout",
     "output_type": "stream",
     "text": [
      "<class 'pandas.core.frame.DataFrame'>\n",
      "Int64Index: 417334 entries, 12 to 894831\n",
      "Data columns (total 12 columns):\n",
      " #   Column             Non-Null Count   Dtype \n",
      "---  ------             --------------   ----- \n",
      " 0   State              417334 non-null  object\n",
      " 1   BankState          417334 non-null  object\n",
      " 2   NAICS              417334 non-null  int64 \n",
      " 3   ApprovalFY         417334 non-null  int64 \n",
      " 4   Term               417334 non-null  int64 \n",
      " 5   NoEmp              417334 non-null  int64 \n",
      " 6   NewExist           417334 non-null  int64 \n",
      " 7   FranchiseCode      417334 non-null  int64 \n",
      " 8   UrbanRural         417334 non-null  int64 \n",
      " 9   LowDoc             417334 non-null  int64 \n",
      " 10  DisbursementGross  417334 non-null  int64 \n",
      " 11  MIS_Status         417334 non-null  int64 \n",
      "dtypes: int64(10), object(2)\n",
      "memory usage: 41.4+ MB\n"
     ]
    }
   ],
   "source": [
    "#Changing the Dtype into integer from object. Using the code of line from previously\n",
    "SBA_df['MIS_Status'] = SBA_df['MIS_Status'].astype(np.int64)\n",
    "SBA_df.info()"
   ]
  },
  {
   "cell_type": "markdown",
   "id": "75ab0e2f",
   "metadata": {},
   "source": [
    "### Term"
   ]
  },
  {
   "cell_type": "code",
   "execution_count": 33,
   "id": "49f1e05e",
   "metadata": {},
   "outputs": [],
   "source": [
    "# Term is already an integer and nothing needs to be done."
   ]
  },
  {
   "cell_type": "markdown",
   "id": "890af4a1",
   "metadata": {},
   "source": [
    "### State"
   ]
  },
  {
   "cell_type": "code",
   "execution_count": 34,
   "id": "cdf39a51",
   "metadata": {},
   "outputs": [
    {
     "name": "stdout",
     "output_type": "stream",
     "text": [
      "Counter({'CA': 59042, 'TX': 29943, 'NY': 29255, 'FL': 24005, 'PA': 18441, 'OH': 16452, 'IL': 15587, 'MA': 12349, 'NJ': 12168, 'MI': 11859, 'MN': 10912, 'UT': 10882, 'GA': 10584, 'WA': 10481, 'CO': 9614, 'WI': 9217, 'AZ': 9146, 'MO': 7933, 'IN': 7590, 'NC': 7028, 'VA': 6500, 'MD': 6452, 'CT': 5564, 'OR': 5346, 'NH': 5252, 'ID': 4367, 'TN': 4200, 'OK': 3919, 'NV': 3849, 'KS': 3846, 'RI': 3787, 'LA': 3738, 'IA': 3698, 'KY': 3563, 'MS': 2961, 'SC': 2687, 'AL': 2620, 'NE': 2567, 'MT': 2458, 'ME': 2423, 'AR': 2127, 'NM': 2092, 'HI': 1771, 'VT': 1698, 'ND': 1672, 'SD': 1242, 'WV': 1139, 'DE': 1129, 'DC': 817, 'WY': 797, 'AK': 565})\n"
     ]
    }
   ],
   "source": [
    "#Counting the instances of the different types of values in the column\n",
    "counts = Counter(SBA_df['State'])\n",
    "print(counts)"
   ]
  },
  {
   "cell_type": "code",
   "execution_count": 35,
   "id": "b2eef049",
   "metadata": {},
   "outputs": [
    {
     "name": "stdout",
     "output_type": "stream",
     "text": [
      "Counter({'1': 59042, '2': 29943, '3': 29255, '4': 24005, '5': 18441, '6': 16452, '7': 15587, '8': 12349, '9': 12168, '10': 11859, '11': 10912, '12': 10882, '13': 10584, '14': 10481, '15': 9614, '16': 9217, '17': 9146, '18': 7933, '19': 7590, '20': 7028, '21': 6500, '22': 6452, '23': 5564, '24': 5346, '25': 5252, '26': 4367, '27': 4200, '28': 3919, '29': 3849, '30': 3846, '31': 3787, '32': 3738, '33': 3698, '34': 3563, '35': 2961, '36': 2687, '37': 2620, '38': 2567, '39': 2458, '40': 2423, '41': 2127, '42': 2092, '43': 1771, '44': 1698, '45': 1672, '46': 1242, '47': 1139, '48': 1129, '49': 817, '50': 797, '51': 565})\n"
     ]
    }
   ],
   "source": [
    "# Assigning each state initial into an integer. Using the replace() function. The same as label encoding.\n",
    "SBA_df['State'] = SBA_df['State'].str.replace('CA','1')\n",
    "SBA_df['State'] = SBA_df['State'].str.replace('TX','2')\n",
    "SBA_df['State'] = SBA_df['State'].str.replace('NY','3')\n",
    "SBA_df['State'] = SBA_df['State'].str.replace('FL','4')\n",
    "SBA_df['State'] = SBA_df['State'].str.replace('PA','5')\n",
    "SBA_df['State'] = SBA_df['State'].str.replace('OH','6')\n",
    "SBA_df['State'] = SBA_df['State'].str.replace('IL','7')\n",
    "SBA_df['State'] = SBA_df['State'].str.replace('MA','8')\n",
    "SBA_df['State'] = SBA_df['State'].str.replace('NJ','9')\n",
    "SBA_df['State'] = SBA_df['State'].str.replace('MI','10')\n",
    "SBA_df['State'] = SBA_df['State'].str.replace('MN','11')\n",
    "SBA_df['State'] = SBA_df['State'].str.replace('UT','12')\n",
    "SBA_df['State'] = SBA_df['State'].str.replace('GA','13')\n",
    "SBA_df['State'] = SBA_df['State'].str.replace('WA','14')\n",
    "SBA_df['State'] = SBA_df['State'].str.replace('CO','15')\n",
    "SBA_df['State'] = SBA_df['State'].str.replace('WI','16')\n",
    "SBA_df['State'] = SBA_df['State'].str.replace('AZ','17')\n",
    "\n",
    "SBA_df['State'] = SBA_df['State'].str.replace('MO','18')\n",
    "SBA_df['State'] = SBA_df['State'].str.replace('IN','19')\n",
    "SBA_df['State'] = SBA_df['State'].str.replace('NC','20')\n",
    "SBA_df['State'] = SBA_df['State'].str.replace('VA','21')\n",
    "SBA_df['State'] = SBA_df['State'].str.replace('MD','22')\n",
    "SBA_df['State'] = SBA_df['State'].str.replace('CT','23')\n",
    "SBA_df['State'] = SBA_df['State'].str.replace('OR','24')\n",
    "SBA_df['State'] = SBA_df['State'].str.replace('NH','25')\n",
    "SBA_df['State'] = SBA_df['State'].str.replace('ID','26')\n",
    "SBA_df['State'] = SBA_df['State'].str.replace('TN','27')\n",
    "SBA_df['State'] = SBA_df['State'].str.replace('OK','28')\n",
    "SBA_df['State'] = SBA_df['State'].str.replace('NV','29')\n",
    "SBA_df['State'] = SBA_df['State'].str.replace('KS','30')\n",
    "SBA_df['State'] = SBA_df['State'].str.replace('RI','31')\n",
    "SBA_df['State'] = SBA_df['State'].str.replace('LA','32')\n",
    "SBA_df['State'] = SBA_df['State'].str.replace('IA','33')\n",
    "SBA_df['State'] = SBA_df['State'].str.replace('KY','34')\n",
    "SBA_df['State'] = SBA_df['State'].str.replace('MS','35')\n",
    "SBA_df['State'] = SBA_df['State'].str.replace('SC','36')\n",
    "SBA_df['State'] = SBA_df['State'].str.replace('AL','37')\n",
    "SBA_df['State'] = SBA_df['State'].str.replace('NE','38')\n",
    "SBA_df['State'] = SBA_df['State'].str.replace('MT','39')\n",
    "SBA_df['State'] = SBA_df['State'].str.replace('ME','40')\n",
    "\n",
    "SBA_df['State'] = SBA_df['State'].str.replace('AR','41')\n",
    "SBA_df['State'] = SBA_df['State'].str.replace('NM','42')\n",
    "SBA_df['State'] = SBA_df['State'].str.replace('HI','43')\n",
    "SBA_df['State'] = SBA_df['State'].str.replace('VT','44')\n",
    "SBA_df['State'] = SBA_df['State'].str.replace('ND','45')\n",
    "SBA_df['State'] = SBA_df['State'].str.replace('SD','46')\n",
    "SBA_df['State'] = SBA_df['State'].str.replace('WV','47')\n",
    "\n",
    "SBA_df['State'] = SBA_df['State'].str.replace('DE','48')\n",
    "SBA_df['State'] = SBA_df['State'].str.replace('DC','49')\n",
    "SBA_df['State'] = SBA_df['State'].str.replace('WY','50')\n",
    "SBA_df['State'] = SBA_df['State'].str.replace('AK','51')\n",
    "    \n",
    "counts = Counter(SBA_df['State'])\n",
    "print(counts)"
   ]
  },
  {
   "cell_type": "code",
   "execution_count": 36,
   "id": "6452397b",
   "metadata": {},
   "outputs": [
    {
     "name": "stdout",
     "output_type": "stream",
     "text": [
      "<class 'pandas.core.frame.DataFrame'>\n",
      "Int64Index: 417334 entries, 12 to 894831\n",
      "Data columns (total 12 columns):\n",
      " #   Column             Non-Null Count   Dtype \n",
      "---  ------             --------------   ----- \n",
      " 0   State              417334 non-null  int64 \n",
      " 1   BankState          417334 non-null  object\n",
      " 2   NAICS              417334 non-null  int64 \n",
      " 3   ApprovalFY         417334 non-null  int64 \n",
      " 4   Term               417334 non-null  int64 \n",
      " 5   NoEmp              417334 non-null  int64 \n",
      " 6   NewExist           417334 non-null  int64 \n",
      " 7   FranchiseCode      417334 non-null  int64 \n",
      " 8   UrbanRural         417334 non-null  int64 \n",
      " 9   LowDoc             417334 non-null  int64 \n",
      " 10  DisbursementGross  417334 non-null  int64 \n",
      " 11  MIS_Status         417334 non-null  int64 \n",
      "dtypes: int64(11), object(1)\n",
      "memory usage: 41.4+ MB\n"
     ]
    }
   ],
   "source": [
    "# Converting the attribute into an integer\n",
    "SBA_df['State'] = SBA_df['State'].astype(np.int64)\n",
    "SBA_df.info()"
   ]
  },
  {
   "cell_type": "markdown",
   "id": "651b010a",
   "metadata": {},
   "source": [
    "### BankState"
   ]
  },
  {
   "cell_type": "code",
   "execution_count": 37,
   "id": "cab0c4a4",
   "metadata": {},
   "outputs": [
    {
     "name": "stdout",
     "output_type": "stream",
     "text": [
      "Counter({'CA': 56545, 'NC': 55923, 'IL': 36450, 'OH': 31413, 'RI': 29066, 'VA': 24344, 'SD': 19390, 'NY': 18801, 'DE': 16930, 'TX': 11940, 'UT': 10881, 'MN': 7174, 'PA': 6458, 'WI': 6330, 'FL': 5617, 'MO': 5145, 'MA': 5017, 'OR': 4403, 'GA': 4184, 'AL': 3958, 'NJ': 3571, 'WA': 3374, 'CT': 3350, 'IN': 3206, 'CO': 3151, 'IA': 2843, 'MI': 2533, 'OK': 2489, 'KS': 2347, 'SC': 2308, 'AR': 2176, 'NH': 2031, 'NE': 2001, 'MT': 1905, 'MS': 1895, 'ID': 1845, 'MD': 1792, 'ND': 1617, 'TN': 1534, 'NV': 1412, 'KY': 1396, 'AZ': 1322, 'HI': 1310, 'ME': 1298, 'NM': 1164, 'LA': 1152, 'VT': 1141, 'WY': 468, 'WV': 342, 'AK': 197, 'DC': 192, 'GU': 2, 'PR': 1})\n"
     ]
    }
   ],
   "source": [
    "# Getting an overview of the Attribute.\n",
    "counts = Counter(SBA_df['BankState'])\n",
    "print(counts)"
   ]
  },
  {
   "cell_type": "code",
   "execution_count": 38,
   "id": "e9ecff6a",
   "metadata": {},
   "outputs": [
    {
     "name": "stdout",
     "output_type": "stream",
     "text": [
      "Counter({'CA': 56545, 'NC': 55923, 'IL': 36450, 'OH': 31413, 'RI': 29066, 'VA': 24344, 'SD': 19390, 'NY': 18801, 'DE': 16930, 'TX': 11940, 'UT': 10881, 'MN': 7174, 'PA': 6458, 'WI': 6330, 'FL': 5617, 'MO': 5145, 'MA': 5017, 'OR': 4403, 'GA': 4184, 'AL': 3958, 'NJ': 3571, 'WA': 3374, 'CT': 3350, 'IN': 3206, 'CO': 3151, 'IA': 2843, 'MI': 2533, 'OK': 2489, 'KS': 2347, 'SC': 2308, 'AR': 2176, 'NH': 2031, 'NE': 2001, 'MT': 1905, 'MS': 1895, 'ID': 1845, 'MD': 1792, 'ND': 1617, 'TN': 1534, 'NV': 1412, 'KY': 1396, 'AZ': 1322, 'HI': 1310, 'ME': 1298, 'NM': 1164, 'LA': 1152, 'VT': 1141, 'WY': 468, 'WV': 342, 'AK': 197, 'DC': 192})\n"
     ]
    }
   ],
   "source": [
    "# There are Bank states with just one instance, to avoid overfitting these instances are removed. Removing: 'GU' and 'PR'\n",
    "# Using the filter function isin() https://sparkbyexamples.com/pandas/pandas-isin-explained-with-examples/\n",
    "SBA_df.drop(SBA_df[SBA_df['BankState'].isin(['PR', 'GU'])].index, inplace=True)\n",
    "\n",
    "counts = Counter(SBA_df['BankState'])\n",
    "print(counts)\n"
   ]
  },
  {
   "cell_type": "code",
   "execution_count": 39,
   "id": "d4a5e94b",
   "metadata": {},
   "outputs": [
    {
     "name": "stdout",
     "output_type": "stream",
     "text": [
      "Counter({'1': 56545, '2': 55923, '3': 36450, '4': 31413, '5': 29066, '6': 24344, '7': 19390, '8': 18801, '9': 16930, '10': 11940, '11': 10881, '12': 7174, '13': 6458, '14': 6330, '15': 5617, '16': 5145, '17': 5017, '18': 4403, '19': 4184, '20': 3958, '21': 3571, '22': 3374, '23': 3350, '24': 3206, '25': 3151, '26': 2843, '27': 2533, '28': 2489, '29': 2347, '30': 2308, '31': 2176, '32': 2031, '33': 2001, '34': 1905, '35': 1895, '36': 1845, '37': 1792, '38': 1617, '39': 1534, '40': 1412, '41': 1396, '42': 1322, '43': 1310, '44': 1298, '45': 1164, '46': 1152, '47': 1141, '48': 468, '49': 342, '50': 197, '51': 192})\n"
     ]
    }
   ],
   "source": [
    "# Same approach as in 'State' but new sorting\n",
    "SBA_df['BankState'] = SBA_df['BankState'].str.replace('CA','1')\n",
    "SBA_df['BankState'] = SBA_df['BankState'].str.replace('NC','2')\n",
    "SBA_df['BankState'] = SBA_df['BankState'].str.replace('IL','3')\n",
    "SBA_df['BankState'] = SBA_df['BankState'].str.replace('OH','4')\n",
    "SBA_df['BankState'] = SBA_df['BankState'].str.replace('RI','5')\n",
    "SBA_df['BankState'] = SBA_df['BankState'].str.replace('VA','6')\n",
    "SBA_df['BankState'] = SBA_df['BankState'].str.replace('SD','7')\n",
    "SBA_df['BankState'] = SBA_df['BankState'].str.replace('NY','8')\n",
    "SBA_df['BankState'] = SBA_df['BankState'].str.replace('DE','9')\n",
    "SBA_df['BankState'] = SBA_df['BankState'].str.replace('TX','10')\n",
    "SBA_df['BankState'] = SBA_df['BankState'].str.replace('UT','11')\n",
    "SBA_df['BankState'] = SBA_df['BankState'].str.replace('MN','12')\n",
    "SBA_df['BankState'] = SBA_df['BankState'].str.replace('PA','13')\n",
    "SBA_df['BankState'] = SBA_df['BankState'].str.replace('WI','14')\n",
    "SBA_df['BankState'] = SBA_df['BankState'].str.replace('FL','15')\n",
    "SBA_df['BankState'] = SBA_df['BankState'].str.replace('MO','16')\n",
    "SBA_df['BankState'] = SBA_df['BankState'].str.replace('MA','17')\n",
    "\n",
    "SBA_df['BankState'] = SBA_df['BankState'].str.replace('OR','18')\n",
    "SBA_df['BankState'] = SBA_df['BankState'].str.replace('GA','19')\n",
    "SBA_df['BankState'] = SBA_df['BankState'].str.replace('AL','20')\n",
    "SBA_df['BankState'] = SBA_df['BankState'].str.replace('NJ','21')\n",
    "SBA_df['BankState'] = SBA_df['BankState'].str.replace('WA','22')\n",
    "SBA_df['BankState'] = SBA_df['BankState'].str.replace('CT','23')\n",
    "SBA_df['BankState'] = SBA_df['BankState'].str.replace('IN','24')\n",
    "SBA_df['BankState'] = SBA_df['BankState'].str.replace('CO','25')\n",
    "SBA_df['BankState'] = SBA_df['BankState'].str.replace('IA','26')\n",
    "SBA_df['BankState'] = SBA_df['BankState'].str.replace('MI','27')\n",
    "SBA_df['BankState'] = SBA_df['BankState'].str.replace('OK','28')\n",
    "SBA_df['BankState'] = SBA_df['BankState'].str.replace('KS','29')\n",
    "SBA_df['BankState'] = SBA_df['BankState'].str.replace('SC','30')\n",
    "SBA_df['BankState'] = SBA_df['BankState'].str.replace('AR','31')\n",
    "SBA_df['BankState'] = SBA_df['BankState'].str.replace('NH','32')\n",
    "SBA_df['BankState'] = SBA_df['BankState'].str.replace('NE','33')\n",
    "SBA_df['BankState'] = SBA_df['BankState'].str.replace('MT','34')\n",
    "SBA_df['BankState'] = SBA_df['BankState'].str.replace('MS','35')\n",
    "SBA_df['BankState'] = SBA_df['BankState'].str.replace('ID','36')\n",
    "SBA_df['BankState'] = SBA_df['BankState'].str.replace('MD','37')\n",
    "SBA_df['BankState'] = SBA_df['BankState'].str.replace('ND','38')\n",
    "SBA_df['BankState'] = SBA_df['BankState'].str.replace('TN','39')\n",
    "SBA_df['BankState'] = SBA_df['BankState'].str.replace('NV','40')\n",
    "SBA_df['BankState'] = SBA_df['BankState'].str.replace('KY','41')\n",
    "\n",
    "SBA_df['BankState'] = SBA_df['BankState'].str.replace('AZ','42')\n",
    "SBA_df['BankState'] = SBA_df['BankState'].str.replace('HI','43')\n",
    "SBA_df['BankState'] = SBA_df['BankState'].str.replace('ME','44')\n",
    "SBA_df['BankState'] = SBA_df['BankState'].str.replace('NM','45')\n",
    "SBA_df['BankState'] = SBA_df['BankState'].str.replace('LA','46')\n",
    "SBA_df['BankState'] = SBA_df['BankState'].str.replace('VT','47')\n",
    "SBA_df['BankState'] = SBA_df['BankState'].str.replace('WY','48')\n",
    "SBA_df['BankState'] = SBA_df['BankState'].str.replace('WV','49')\n",
    "SBA_df['BankState'] = SBA_df['BankState'].str.replace('AK','50')\n",
    "SBA_df['BankState'] = SBA_df['BankState'].str.replace('DC','51')\n",
    "\n",
    "    \n",
    "counts = Counter(SBA_df['BankState'])\n",
    "print(counts)"
   ]
  },
  {
   "cell_type": "code",
   "execution_count": 40,
   "id": "f6ff6db5",
   "metadata": {},
   "outputs": [
    {
     "name": "stdout",
     "output_type": "stream",
     "text": [
      "<class 'pandas.core.frame.DataFrame'>\n",
      "Int64Index: 417331 entries, 12 to 894831\n",
      "Data columns (total 12 columns):\n",
      " #   Column             Non-Null Count   Dtype\n",
      "---  ------             --------------   -----\n",
      " 0   State              417331 non-null  int64\n",
      " 1   BankState          417331 non-null  int64\n",
      " 2   NAICS              417331 non-null  int64\n",
      " 3   ApprovalFY         417331 non-null  int64\n",
      " 4   Term               417331 non-null  int64\n",
      " 5   NoEmp              417331 non-null  int64\n",
      " 6   NewExist           417331 non-null  int64\n",
      " 7   FranchiseCode      417331 non-null  int64\n",
      " 8   UrbanRural         417331 non-null  int64\n",
      " 9   LowDoc             417331 non-null  int64\n",
      " 10  DisbursementGross  417331 non-null  int64\n",
      " 11  MIS_Status         417331 non-null  int64\n",
      "dtypes: int64(12)\n",
      "memory usage: 41.4 MB\n"
     ]
    }
   ],
   "source": [
    "# COnverting into an integer and checking if it worked.\n",
    "SBA_df['BankState'] = SBA_df['BankState'].astype(np.int64)\n",
    "SBA_df.info()"
   ]
  },
  {
   "cell_type": "markdown",
   "id": "04633663",
   "metadata": {},
   "source": [
    "### NAICS"
   ]
  },
  {
   "cell_type": "code",
   "execution_count": 41,
   "id": "485c89e5",
   "metadata": {},
   "outputs": [
    {
     "name": "stdout",
     "output_type": "stream",
     "text": [
      "Counter({722110: 18878, 722211: 15506, 812112: 6938, 811111: 6424, 561730: 6145, 621210: 5263, 238990: 5009, 447110: 4912, 621111: 4737, 484110: 4622, 453998: 4581, 236118: 4215, 621310: 4110, 238220: 3977, 721110: 3929, 624410: 3900, 541110: 3701, 445110: 3664, 713940: 3636, 236115: 3503, 812320: 3492, 238210: 3483, 445310: 3397, 531210: 3383, 812990: 3271, 722213: 3106, 524210: 2967, 484121: 2955, 541611: 2917, 453220: 2774, 561720: 2748, 445120: 2708, 541330: 2548, 541512: 2423, 811121: 2417, 541511: 2405, 451110: 2360, 812199: 2271, 445299: 2173, 442110: 2112, 541990: 2107, 541613: 2084, 441310: 1978, 541211: 1973, 541519: 1906, 238910: 1895, 541940: 1889, 722410: 1885, 541618: 1824, 811192: 1803, 423990: 1756, 448190: 1744, 448310: 1693, 448120: 1684, 441120: 1678, 812310: 1643, 238320: 1634, 453110: 1633, 522310: 1620, 452990: 1552, 332710: 1519, 621340: 1507, 236220: 1487, 561990: 1481, 713990: 1473, 484220: 1472, 446120: 1448, 424990: 1438, 722320: 1435, 541810: 1406, 541430: 1397, 541219: 1397, 812113: 1384, 561790: 1369, 443112: 1340, 541410: 1334, 811310: 1332, 444190: 1328, 442299: 1323, 561499: 1288, 541310: 1225, 339999: 1199, 621320: 1160, 621610: 1149, 238110: 1146, 238330: 1123, 442210: 1115, 541320: 1115, 446110: 1114, 541921: 1113, 238350: 1098, 621399: 1083, 444130: 1082, 443120: 1075, 448140: 1062, 811198: 1046, 323110: 1034, 424330: 1029, 611620: 1012, 448150: 1001, 812910: 1000, 451120: 978, 531311: 974, 454390: 972, 454210: 958, 811490: 953, 423450: 946, 561310: 939, 238310: 937, 424490: 914, 711510: 910, 323119: 902, 541213: 895, 541690: 887, 339950: 887, 337110: 878, 561740: 859, 512110: 858, 444220: 840, 531390: 839, 112320: 828, 448210: 815, 311811: 811, 523930: 795, 561431: 793, 453310: 780, 238140: 777, 423120: 765, 238160: 756, 453910: 755, 488410: 754, 445291: 753, 423940: 753, 561621: 734, 611699: 717, 332999: 715, 423910: 697, 485320: 690, 488510: 675, 561320: 675, 238390: 675, 323113: 669, 811118: 667, 446199: 656, 236116: 644, 423830: 639, 812111: 633, 238190: 624, 238290: 624, 446191: 613, 811212: 610, 611610: 608, 441221: 607, 492210: 600, 441110: 597, 451211: 596, 488999: 593, 611710: 589, 561439: 585, 447190: 577, 326199: 568, 454111: 562, 445210: 561, 453210: 561, 541612: 559, 443111: 559, 621999: 558, 448130: 556, 514199: 550, 453920: 548, 451130: 545, 423220: 544, 484230: 542, 812210: 534, 235990: 533, 238340: 533, 235110: 532, 237310: 530, 423690: 527, 541490: 527, 541890: 521, 561710: 519, 562111: 517, 233210: 516, 424210: 514, 532490: 510, 561510: 507, 423430: 506, 531120: 503, 441320: 499, 531320: 492, 311812: 491, 484210: 487, 811191: 486, 541620: 485, 518210: 483, 423310: 483, 113310: 458, 213112: 452, 492110: 450, 611519: 448, 451140: 447, 541614: 446, 423610: 443, 811113: 443, 323114: 441, 425120: 440, 424310: 437, 532230: 435, 621112: 433, 517212: 430, 235210: 427, 448110: 421, 453991: 420, 511120: 418, 238130: 417, 423210: 414, 541922: 412, 424410: 410, 339116: 410, 621330: 407, 321999: 402, 237110: 401, 722310: 399, 532299: 397, 531312: 394, 237990: 393, 624120: 385, 721191: 381, 332322: 376, 624190: 374, 423840: 374, 233320: 371, 423440: 370, 621391: 368, 561110: 367, 327991: 364, 511210: 363, 333319: 360, 445292: 357, 561612: 356, 441229: 356, 332312: 355, 811122: 347, 423390: 346, 315999: 343, 337122: 343, 235310: 339, 611691: 337, 424120: 334, 236210: 333, 238150: 333, 713950: 331, 423320: 327, 541350: 322, 811412: 313, 424320: 311, 541370: 311, 623110: 311, 541380: 309, 621512: 302, 621498: 300, 339920: 300, 423620: 296, 511130: 295, 311999: 293, 451220: 292, 541191: 288, 541710: 286, 424480: 286, 518111: 284, 541199: 282, 423850: 282, 442291: 282, 811219: 280, 722330: 279, 315212: 278, 441222: 278, 485999: 277, 446130: 277, 424930: 273, 519190: 272, 424690: 269, 339911: 269, 423920: 267, 115210: 266, 423110: 266, 333999: 265, 532310: 265, 811420: 263, 423930: 263, 485310: 263, 484122: 261, 713120: 261, 445230: 260, 333512: 259, 811411: 256, 332812: 255, 561440: 253, 511199: 252, 561410: 252, 441210: 251, 621511: 249, 323115: 249, 444110: 248, 314999: 247, 424460: 245, 238120: 243, 444210: 241, 333514: 241, 421990: 240, 238170: 239, 452111: 237, 512240: 235, 454311: 233, 511110: 233, 562910: 232, 561611: 232, 423510: 232, 445220: 232, 422990: 231, 562998: 229, 541860: 226, 321911: 226, 321920: 225, 444120: 224, 811112: 223, 423710: 222, 524298: 222, 541850: 222, 561910: 222, 711310: 221, 541820: 220, 493110: 220, 611430: 220, 722212: 220, 424820: 220, 713910: 219, 524128: 219, 611110: 218, 541910: 217, 532412: 216, 562991: 216, 321918: 216, 423720: 213, 624110: 213, 491110: 212, 512199: 211, 424910: 211, 235930: 211, 315299: 210, 423420: 210, 623312: 209, 541870: 207, 221310: 207, 711410: 205, 423860: 205, 517910: 204, 237130: 204, 721211: 202, 561622: 201, 333298: 199, 488490: 197, 332813: 196, 532292: 195, 811211: 193, 541513: 191, 711320: 186, 423490: 186, 711110: 186, 517310: 186, 336399: 186, 621910: 185, 424470: 185, 611511: 184, 334419: 183, 335999: 181, 235420: 180, 531190: 180, 517110: 179, 337212: 178, 337127: 177, 327390: 175, 327215: 174, 332721: 174, 312130: 174, 332323: 170, 531110: 170, 511140: 166, 325998: 165, 315211: 164, 611420: 162, 623311: 161, 115112: 161, 321113: 161, 532210: 160, 327112: 158, 424340: 158, 311330: 156, 711130: 155, 235510: 154, 235610: 153, 423820: 152, 713930: 152, 541840: 152, 485991: 151, 522292: 151, 339932: 151, 541420: 151, 512191: 149, 516110: 148, 424420: 147, 334310: 147, 561599: 146, 424810: 146, 488991: 144, 532111: 144, 424450: 144, 488190: 143, 423810: 143, 421830: 143, 311991: 142, 333415: 142, 337121: 142, 562119: 141, 561520: 140, 424720: 140, 813910: 138, 623990: 138, 235710: 137, 812191: 136, 339113: 136, 512131: 136, 236117: 135, 611692: 134, 339112: 133, 421450: 132, 332321: 132, 532220: 131, 523920: 130, 332212: 129, 532120: 128, 311520: 127, 424130: 127, 443130: 126, 336991: 124, 333515: 122, 485510: 122, 212321: 122, 812921: 121, 561330: 121, 561311: 121, 333511: 120, 337215: 120, 523999: 120, 621420: 120, 422330: 119, 422490: 118, 813920: 118, 812331: 118, 423330: 117, 423730: 117, 312120: 117, 541930: 117, 336413: 116, 487110: 116, 425110: 116, 311920: 116, 561920: 115, 454113: 115, 325211: 115, 421690: 115, 611512: 114, 624310: 112, 111421: 112, 522390: 111, 541214: 111, 339914: 110, 333111: 110, 512120: 110, 325412: 110, 532291: 109, 334220: 109, 621493: 109, 327320: 108, 313312: 108, 315233: 108, 325510: 106, 487210: 105, 333220: 105, 325620: 105, 452910: 105, 311412: 104, 235410: 103, 711219: 103, 711120: 102, 541340: 102, 333513: 102, 339115: 101, 524291: 101, 323112: 101, 336999: 101, 112120: 101, 512210: 100, 811213: 98, 115310: 98, 336612: 98, 524126: 98, 721214: 98, 235520: 97, 424610: 97, 485410: 97, 339114: 97, 811430: 97, 424920: 96, 532420: 96, 541360: 96, 423130: 96, 311119: 95, 312112: 94, 424110: 94, 234110: 94, 311612: 94, 561210: 94, 332311: 94, 315239: 94, 424940: 94, 422210: 93, 337211: 93, 332116: 93, 333120: 92, 421430: 92, 333992: 91, 551112: 91, 334611: 91, 424430: 89, 334119: 88, 334111: 87, 522298: 86, 512220: 85, 422930: 85, 448320: 85, 524127: 85, 453930: 85, 334513: 84, 541720: 84, 333518: 84, 721199: 84, 322211: 84, 334519: 84, 336212: 83, 452112: 83, 513322: 83, 322299: 83, 337125: 82, 622110: 82, 522320: 81, 332313: 81, 517210: 81, 336211: 80, 424710: 80, 514210: 80, 333132: 80, 235920: 80, 314912: 79, 423140: 79, 562920: 78, 421120: 78, 213111: 77, 622310: 77, 561422: 77, 517410: 76, 711211: 76, 112310: 76, 424950: 75, 323121: 75, 234990: 75, 334510: 75, 332111: 74, 512290: 74, 334412: 74, 314129: 73, 561492: 73, 454319: 72, 337920: 72, 312113: 72, 561421: 71, 454312: 71, 312111: 70, 512230: 70, 493190: 70, 339992: 70, 712110: 70, 315222: 70, 327212: 69, 323117: 69, 812220: 69, 421310: 69, 311821: 68, 334290: 68, 332510: 68, 713110: 67, 454110: 66, 421910: 66, 326121: 66, 331210: 66, 621410: 66, 325411: 65, 323122: 65, 335122: 65, 333312: 65, 422410: 65, 561491: 65, 237120: 65, 311919: 64, 333911: 64, 321992: 64, 336412: 63, 324121: 63, 423410: 63, 524292: 63, 332996: 63, 332722: 62, 336214: 62, 326299: 62, 339111: 62, 421610: 62, 331111: 61, 333311: 61, 423460: 61, 481211: 61, 325611: 61, 333112: 60, 321214: 60, 334413: 60, 514191: 60, 711190: 60, 311611: 60, 611513: 60, 337214: 60, 524113: 59, 524114: 59, 451212: 59, 562219: 59, 313311: 59, 311340: 59, 237210: 58, 515120: 58, 812332: 58, 515112: 58, 333294: 57, 488390: 57, 421940: 57, 621991: 57, 325910: 56, 333922: 56, 327122: 56, 325612: 55, 333293: 55, 611630: 55, 115114: 55, 812930: 55, 421840: 55, 421210: 55, 333993: 54, 523120: 54, 421220: 54, 562211: 54, 623220: 54, 335121: 54, 422310: 53, 423740: 53, 424590: 53, 233310: 53, 321912: 52, 515210: 52, 314121: 52, 333314: 52, 235430: 52, 311111: 52, 421930: 52, 422690: 51, 332618: 51, 523110: 51, 311712: 51, 335129: 51, 334511: 51, 454112: 51, 332911: 50, 488119: 50, 334515: 50, 522220: 50, 421440: 50, 339991: 49, 315232: 49, 337129: 49, 336322: 49, 517919: 49, 112920: 48, 326212: 48, 327331: 48, 422320: 48, 611310: 48, 422110: 48, 321211: 48, 424510: 48, 332811: 48, 311942: 47, 624229: 47, 316992: 47, 327999: 46, 332439: 46, 422920: 46, 325199: 46, 562212: 45, 336611: 45, 335312: 45, 234910: 45, 336312: 44, 313222: 44, 334516: 44, 331221: 43, 337124: 43, 311830: 43, 325992: 43, 334612: 43, 333411: 43, 421110: 43, 316110: 42, 334512: 42, 531130: 42, 326140: 42, 316999: 42, 114111: 42, 339931: 41, 812922: 41, 532411: 41, 517510: 41, 334210: 41, 314110: 40, 112111: 40, 326111: 40, 311421: 40, 513330: 40, 421850: 40, 315231: 40, 311615: 40, 421390: 40, 623210: 39, 323111: 39, 333414: 39, 813319: 39, 488210: 39, 523140: 39, 322222: 38, 421920: 38, 111998: 38, 333292: 37, 481219: 37, 333315: 37, 211111: 37, 325991: 37, 334418: 37, 311941: 37, 221210: 37, 115113: 37, 522293: 37, 324110: 37, 233220: 37, 422120: 37, 332919: 36, 326150: 36, 335211: 36, 315228: 36, 485113: 36, 333921: 36, 333210: 36, 487990: 36, 112990: 36, 421720: 36, 311320: 35, 333924: 35, 311911: 35, 337910: 35, 424520: 35, 422910: 35, 722511: 35, 483211: 34, 115115: 34, 513310: 34, 541830: 34, 335314: 34, 421510: 34, 519130: 34, 336360: 33, 481112: 33, 336350: 32, 336111: 32, 513390: 32, 424440: 32, 323116: 32, 525990: 32, 331521: 32, 322212: 32, 333618: 31, 331491: 31, 332994: 31, 315292: 31, 711212: 31, 339943: 31, 562112: 31, 311411: 31, 313210: 31, 234920: 31, 321114: 30, 326291: 30, 331513: 30, 332420: 30, 311423: 30, 621491: 30, 335311: 30, 325520: 30, 235910: 30, 325188: 30, 322221: 30, 326122: 30, 422460: 30, 316219: 29, 334613: 29, 111422: 29, 315225: 29, 493120: 29, 339942: 29, 333912: 29, 311513: 29, 518112: 28, 327211: 28, 336411: 28, 525930: 28, 311813: 28, 326112: 28, 517911: 28, 332117: 27, 113110: 27, 421620: 27, 322121: 27, 321991: 27, 332912: 27, 561450: 27, 315991: 27, 422720: 27, 315191: 27, 421420: 27, 421320: 27, 422470: 27, 421710: 27, 322223: 26, 112210: 26, 481212: 26, 422420: 26, 523910: 26, 421820: 26, 114112: 26, 332913: 25, 322291: 25, 212319: 25, 624210: 25, 323118: 25, 331316: 25, 621492: 25, 333923: 24, 421730: 24, 488330: 24, 335931: 24, 311211: 24, 421490: 24, 541712: 24, 221111: 24, 422480: 24, 333131: 23, 221122: 23, 326191: 23, 422130: 23, 325314: 23, 331222: 23, 235950: 23, 331511: 23, 421860: 23, 326130: 22, 481111: 22, 813990: 22, 113210: 22, 611410: 22, 235940: 22, 235810: 22, 326220: 22, 114119: 22, 422710: 22, 333295: 21, 561613: 21, 315291: 21, 114210: 21, 313111: 21, 312140: 21, 315119: 21, 422820: 21, 622210: 21, 316993: 20, 322233: 20, 533110: 20, 339993: 20, 212311: 20, 311823: 20, 326160: 20, 485210: 20, 335921: 20, 313221: 20, 333991: 20, 334417: 20, 333313: 19, 334112: 19, 452110: 19, 532112: 19, 421810: 19, 336330: 19, 511191: 19, 311511: 19, 335313: 19, 111110: 19, 332991: 19, 422510: 19, 422450: 19, 313113: 18, 333291: 18, 325311: 18, 335212: 18, 483212: 18, 488310: 18, 321219: 18, 335929: 18, 325320: 18, 234930: 18, 333613: 17, 713290: 17, 327121: 17, 712130: 17, 813410: 17, 334518: 17, 311422: 17, 324191: 17, 332211: 17, 523130: 17, 321213: 17, 111219: 17, 624230: 17, 316211: 17, 331522: 17, 316991: 17, 315223: 17, 339913: 17, 326192: 17, 541711: 17, 315234: 16, 336510: 16, 327420: 16, 322231: 16, 327910: 16, 316214: 16, 336311: 16, 422610: 16, 221119: 16, 212312: 16, 326113: 16, 311930: 16, 493130: 16, 332997: 16, 112390: 16, 482111: 15, 314911: 15, 332998: 15, 322232: 15, 515111: 15, 813312: 15, 335221: 15, 721310: 15, 115116: 15, 221320: 15, 339994: 15, 421130: 15, 332992: 15, 332410: 15, 327310: 15, 422340: 15, 517211: 14, 327332: 14, 331492: 14, 483111: 14, 332114: 14, 332995: 14, 112910: 14, 311613: 14, 721120: 14, 112112: 14, 722513: 14, 513340: 14, 422810: 14, 333997: 13, 519110: 13, 311514: 13, 333995: 13, 525110: 13, 336120: 13, 333994: 13, 325110: 13, 421140: 13, 922160: 12, 336370: 12, 331312: 12, 336112: 12, 315224: 12, 513112: 12, 334414: 12, 333412: 12, 421330: 12, 311711: 12, 335110: 12, 327111: 12, 313249: 12, 327124: 12, 335991: 11, 334416: 11, 333611: 11, 525910: 11, 522291: 11, 335228: 11, 331524: 11, 332611: 11, 334514: 11, 813212: 11, 221330: 11, 488320: 11, 233110: 11, 322214: 11, 111419: 11, 336321: 10, 921130: 10, 485111: 10, 313320: 10, 611210: 10, 312229: 10, 333612: 10, 325414: 10, 331314: 10, 482112: 10, 111332: 10, 324199: 10, 333516: 10, 327992: 10, 336992: 10, 336340: 10, 112340: 10, 311822: 10, 421460: 10, 322213: 9, 332213: 9, 423520: 9, 513220: 9, 422590: 9, 713920: 9, 326211: 9, 814110: 9, 111150: 9, 523991: 9, 332214: 9, 422940: 9, 421740: 9, 712190: 8, 483114: 8, 327125: 8, 339912: 8, 324122: 8, 483113: 8, 213115: 8, 332612: 8, 525190: 8, 519120: 8, 339995: 8, 422430: 8, 562213: 8, 327113: 8, 525120: 8, 325212: 8, 211112: 8, 311230: 8, 111140: 8, 332993: 8, 331419: 8, 422950: 8, 922130: 7, 322225: 7, 335932: 7, 541120: 7, 331319: 7, 325131: 7, 525920: 7, 213114: 7, 316213: 7, 212313: 7, 333913: 7, 112511: 7, 422520: 7, 513210: 7, 212399: 6, 923110: 6, 333996: 6, 111199: 6, 512132: 6, 111339: 6, 924110: 6, 322130: 6, 322122: 6, 335911: 6, 213113: 6, 331528: 6, 486990: 6, 111940: 6, 321212: 6, 334411: 6, 112519: 6, 0: 6, 514120: 6, 325413: 5, 926150: 5, 336391: 5, 315111: 5, 334517: 5, 331421: 5, 421410: 5, 486910: 5, 327213: 5, 483112: 5, 339941: 5, 712120: 5, 523210: 5, 522110: 5, 313230: 5, 322110: 5, 813940: 5, 311225: 5, 112512: 5, 334113: 5, 311222: 5, 524130: 5, 111334: 5, 331422: 5, 513111: 5, 336415: 4, 486210: 4, 332431: 4, 331311: 4, 713210: 4, 923130: 4, 522294: 4, 315221: 4, 335224: 4, 327993: 4, 928120: 4, 336419: 4, 315192: 4, 212393: 4, 926120: 4, 311223: 4, 325181: 4, 212299: 4, 722515: 4, 327123: 4, 331315: 4, 212111: 4, 513120: 4, 561312: 4, 115111: 4, 332112: 4, 513321: 4, 315993: 4, 339944: 4, 522210: 3, 311212: 3, 421520: 3, 311213: 3, 522190: 3, 923120: 3, 813110: 3, 813219: 3, 212322: 3, 325132: 3, 922190: 3, 331525: 3, 561591: 3, 485112: 3, 422440: 3, 311221: 3, 313241: 3, 334415: 3, 488111: 3, 314991: 3, 486110: 3, 325193: 3, 813311: 3, 112930: 3, 315992: 3, 111211: 3, 331423: 3, 234120: 3, 335912: 3, 111331: 3, 111411: 3, 313112: 3, 485119: 3, 336213: 3, 922120: 2, 443142: 2, 551114: 2, 325191: 2, 928110: 2, 443141: 2, 926110: 2, 624221: 2, 813930: 2, 322226: 2, 112130: 2, 325120: 2, 322215: 2, 111120: 2, 311312: 2, 212325: 2, 922150: 2, 441228: 2, 325613: 2, 325222: 2, 312221: 2, 221112: 2, 221121: 2, 926140: 1, 212112: 1, 325192: 1, 813211: 1, 926130: 1, 927110: 1, 551111: 1, 325920: 1, 336320: 1, 333241: 1, 921190: 1, 311351: 1, 514190: 1, 325312: 1, 522130: 1, 314992: 1, 327120: 1, 212210: 1, 313310: 1, 332115: 1, 332216: 1, 111336: 1, 327410: 1, 111130: 1, 522120: 1, 312210: 1, 112420: 1, 524192: 1, 315990: 1, 212231: 1, 112330: 1, 331411: 1, 111910: 1, 111992: 1, 111335: 1, 111191: 1, 335222: 1, 514110: 1, 311512: 1})\n"
     ]
    }
   ],
   "source": [
    "# Starting with looking on the NAICS to get an overview.\n",
    "counts = Counter(SBA_df['NAICS'])\n",
    "print(counts)"
   ]
  },
  {
   "cell_type": "code",
   "execution_count": 42,
   "id": "b7618520",
   "metadata": {
    "scrolled": true
   },
   "outputs": [
    {
     "name": "stdout",
     "output_type": "stream",
     "text": [
      "Counter({72.211: 18878, 72.2211: 15506, 81.2112: 6938, 81.1111: 6424, 56.173: 6145, 62.121: 5263, 23.899: 5009, 44.711: 4912, 62.1111: 4737, 48.411: 4622, 45.3998: 4581, 23.6118: 4215, 62.131: 4110, 23.822: 3977, 72.111: 3929, 62.441: 3900, 54.111: 3701, 44.511: 3664, 71.394: 3636, 23.6115: 3503, 81.232: 3492, 23.821: 3483, 44.531: 3397, 53.121: 3383, 81.299: 3271, 72.2213: 3106, 52.421: 2967, 48.4121: 2955, 54.1611: 2917, 45.322: 2774, 56.172: 2748, 44.512: 2708, 54.133: 2548, 54.1512: 2423, 81.1121: 2417, 54.1511: 2405, 45.111: 2360, 81.2199: 2271, 44.5299: 2173, 44.211: 2112, 54.199: 2107, 54.1613: 2084, 44.131: 1978, 54.1211: 1973, 54.1519: 1906, 23.891: 1895, 54.194: 1889, 72.241: 1885, 54.1618: 1824, 81.1192: 1803, 42.399: 1756, 44.819: 1744, 44.831: 1693, 44.812: 1684, 44.112: 1678, 81.231: 1643, 23.832: 1634, 45.311: 1633, 52.231: 1620, 45.299: 1552, 33.271: 1519, 62.134: 1507, 23.622: 1487, 56.199: 1481, 71.399: 1473, 48.422: 1472, 44.612: 1448, 42.499: 1438, 72.232: 1435, 54.181: 1406, 54.143: 1397, 54.1219: 1397, 81.2113: 1384, 56.179: 1369, 44.3112: 1340, 54.141: 1334, 81.131: 1332, 44.419: 1328, 44.2299: 1323, 56.1499: 1288, 54.131: 1225, 33.9999: 1199, 62.132: 1160, 62.161: 1149, 23.811: 1146, 23.833: 1123, 44.221: 1115, 54.132: 1115, 44.611: 1114, 54.1921: 1113, 23.835: 1098, 62.1399: 1083, 44.413: 1082, 44.312: 1075, 44.814: 1062, 81.1198: 1046, 32.311: 1034, 42.433: 1029, 61.162: 1012, 44.815: 1001, 81.291: 1000, 45.112: 978, 53.1311: 974, 45.439: 972, 45.421: 958, 81.149: 953, 42.345: 946, 56.131: 939, 23.831: 937, 42.449: 914, 71.151: 910, 32.3119: 902, 54.1213: 895, 54.169: 887, 33.995: 887, 33.711: 878, 56.174: 859, 51.211: 858, 44.422: 840, 53.139: 839, 11.232: 828, 44.821: 815, 31.1811: 811, 52.393: 795, 56.1431: 793, 45.331: 780, 23.814: 777, 42.312: 765, 23.816: 756, 45.391: 755, 48.841: 754, 44.5291: 753, 42.394: 753, 56.1621: 734, 61.1699: 717, 33.2999: 715, 42.391: 697, 48.532: 690, 48.851: 675, 56.132: 675, 23.839: 675, 32.3113: 669, 81.1118: 667, 44.6199: 656, 23.6116: 644, 42.383: 639, 81.2111: 633, 23.819: 624, 23.829: 624, 44.6191: 613, 81.1212: 610, 61.161: 608, 44.1221: 607, 49.221: 600, 44.111: 597, 45.1211: 596, 48.8999: 593, 61.171: 589, 56.1439: 585, 44.719: 577, 32.6199: 568, 45.4111: 562, 44.521: 561, 45.321: 561, 54.1612: 559, 44.3111: 559, 62.1999: 558, 44.813: 556, 51.4199: 550, 45.392: 548, 45.113: 545, 42.322: 544, 48.423: 542, 81.221: 534, 23.599: 533, 23.834: 533, 23.511: 532, 23.731: 530, 42.369: 527, 54.149: 527, 54.189: 521, 56.171: 519, 56.2111: 517, 23.321: 516, 42.421: 514, 53.249: 510, 56.151: 507, 42.343: 506, 53.112: 503, 44.132: 499, 53.132: 492, 31.1812: 491, 48.421: 487, 81.1191: 486, 54.162: 485, 51.821: 483, 42.331: 483, 11.331: 458, 21.3112: 452, 49.211: 450, 61.1519: 448, 45.114: 447, 54.1614: 446, 42.361: 443, 81.1113: 443, 32.3114: 441, 42.512: 440, 42.431: 437, 53.223: 435, 62.1112: 433, 51.7212: 430, 23.521: 427, 44.811: 421, 45.3991: 420, 51.112: 418, 23.813: 417, 42.321: 414, 54.1922: 412, 42.441: 410, 33.9116: 410, 62.133: 407, 32.1999: 402, 23.711: 401, 72.231: 399, 53.2299: 397, 53.1312: 394, 23.799: 393, 62.412: 385, 72.1191: 381, 33.2322: 376, 62.419: 374, 42.384: 374, 23.332: 371, 42.344: 370, 62.1391: 368, 56.111: 367, 32.7991: 364, 51.121: 363, 33.3319: 360, 44.5292: 357, 56.1612: 356, 44.1229: 356, 33.2312: 355, 81.1122: 347, 42.339: 346, 31.5999: 343, 33.7122: 343, 23.531: 339, 61.1691: 337, 42.412: 334, 23.621: 333, 23.815: 333, 71.395: 331, 42.332: 327, 54.135: 322, 81.1412: 313, 42.432: 311, 54.137: 311, 62.311: 311, 54.138: 309, 62.1512: 302, 62.1498: 300, 33.992: 300, 42.362: 296, 51.113: 295, 31.1999: 293, 45.122: 292, 54.1191: 288, 54.171: 286, 42.448: 286, 51.8111: 284, 54.1199: 282, 42.385: 282, 44.2291: 282, 81.1219: 280, 72.233: 279, 31.5212: 278, 44.1222: 278, 48.5999: 277, 44.613: 277, 42.493: 273, 51.919: 272, 42.469: 269, 33.9911: 269, 42.392: 267, 11.521: 266, 42.311: 266, 33.3999: 265, 53.231: 265, 81.142: 263, 42.393: 263, 48.531: 263, 48.4122: 261, 71.312: 261, 44.523: 260, 33.3512: 259, 81.1411: 256, 33.2812: 255, 56.144: 253, 51.1199: 252, 56.141: 252, 44.121: 251, 62.1511: 249, 32.3115: 249, 44.411: 248, 31.4999: 247, 42.446: 245, 23.812: 243, 44.421: 241, 33.3514: 241, 42.199: 240, 23.817: 239, 45.2111: 237, 51.224: 235, 45.4311: 233, 51.111: 233, 56.291: 232, 56.1611: 232, 42.351: 232, 44.522: 232, 42.299: 231, 56.2998: 229, 54.186: 226, 32.1911: 226, 32.192: 225, 44.412: 224, 81.1112: 223, 42.371: 222, 52.4298: 222, 54.185: 222, 56.191: 222, 71.131: 221, 54.182: 220, 49.311: 220, 61.143: 220, 72.2212: 220, 42.482: 220, 71.391: 219, 52.4128: 219, 61.111: 218, 54.191: 217, 53.2412: 216, 56.2991: 216, 32.1918: 216, 42.372: 213, 62.411: 213, 49.111: 212, 51.2199: 211, 42.491: 211, 23.593: 211, 31.5299: 210, 42.342: 210, 62.3312: 209, 54.187: 207, 22.131: 207, 71.141: 205, 42.386: 205, 51.791: 204, 23.713: 204, 72.1211: 202, 56.1622: 201, 33.3298: 199, 48.849: 197, 33.2813: 196, 53.2292: 195, 81.1211: 193, 54.1513: 191, 71.132: 186, 42.349: 186, 71.111: 186, 51.731: 186, 33.6399: 186, 62.191: 185, 42.447: 185, 61.1511: 184, 33.4419: 183, 33.5999: 181, 23.542: 180, 53.119: 180, 51.711: 179, 33.7212: 178, 33.7127: 177, 32.739: 175, 32.7215: 174, 33.2721: 174, 31.213: 174, 33.2323: 170, 53.111: 170, 51.114: 166, 32.5998: 165, 31.5211: 164, 61.142: 162, 62.3311: 161, 11.5112: 161, 32.1113: 161, 53.221: 160, 32.7112: 158, 42.434: 158, 31.133: 156, 71.113: 155, 23.551: 154, 23.561: 153, 42.382: 152, 71.393: 152, 54.184: 152, 48.5991: 151, 52.2292: 151, 33.9932: 151, 54.142: 151, 51.2191: 149, 51.611: 148, 42.442: 147, 33.431: 147, 56.1599: 146, 42.481: 146, 48.8991: 144, 53.2111: 144, 42.445: 144, 48.819: 143, 42.381: 143, 42.183: 143, 31.1991: 142, 33.3415: 142, 33.7121: 142, 56.2119: 141, 56.152: 140, 42.472: 140, 81.391: 138, 62.399: 138, 23.571: 137, 81.2191: 136, 33.9113: 136, 51.2131: 136, 23.6117: 135, 61.1692: 134, 33.9112: 133, 42.145: 132, 33.2321: 132, 53.222: 131, 52.392: 130, 33.2212: 129, 53.212: 128, 31.152: 127, 42.413: 127, 44.313: 126, 33.6991: 124, 33.3515: 122, 48.551: 122, 21.2321: 122, 81.2921: 121, 56.133: 121, 56.1311: 121, 33.3511: 120, 33.7215: 120, 52.3999: 120, 62.142: 120, 42.233: 119, 42.249: 118, 81.392: 118, 81.2331: 118, 42.333: 117, 42.373: 117, 31.212: 117, 54.193: 117, 33.6413: 116, 48.711: 116, 42.511: 116, 31.192: 116, 56.192: 115, 45.4113: 115, 32.5211: 115, 42.169: 115, 61.1512: 114, 62.431: 112, 11.1421: 112, 52.239: 111, 54.1214: 111, 33.9914: 110, 33.3111: 110, 51.212: 110, 32.5412: 110, 53.2291: 109, 33.422: 109, 62.1493: 109, 32.732: 108, 31.3312: 108, 31.5233: 108, 32.551: 106, 48.721: 105, 33.322: 105, 32.562: 105, 45.291: 105, 31.1412: 104, 23.541: 103, 71.1219: 103, 71.112: 102, 54.134: 102, 33.3513: 102, 33.9115: 101, 52.4291: 101, 32.3112: 101, 33.6999: 101, 11.212: 101, 51.221: 100, 81.1213: 98, 11.531: 98, 33.6612: 98, 52.4126: 98, 72.1214: 98, 23.552: 97, 42.461: 97, 48.541: 97, 33.9114: 97, 81.143: 97, 42.492: 96, 53.242: 96, 54.136: 96, 42.313: 96, 31.1119: 95, 31.2112: 94, 42.411: 94, 23.411: 94, 31.1612: 94, 56.121: 94, 33.2311: 94, 31.5239: 94, 42.494: 94, 42.221: 93, 33.7211: 93, 33.2116: 93, 33.312: 92, 42.143: 92, 33.3992: 91, 55.1112: 91, 33.4611: 91, 42.443: 89, 33.4119: 88, 33.4111: 87, 52.2298: 86, 51.222: 85, 42.293: 85, 44.832: 85, 52.4127: 85, 45.393: 85, 33.4513: 84, 54.172: 84, 33.3518: 84, 72.1199: 84, 32.2211: 84, 33.4519: 84, 33.6212: 83, 45.2112: 83, 51.3322: 83, 32.2299: 83, 33.7125: 82, 62.211: 82, 52.232: 81, 33.2313: 81, 51.721: 81, 33.6211: 80, 42.471: 80, 51.421: 80, 33.3132: 80, 23.592: 80, 31.4912: 79, 42.314: 79, 56.292: 78, 42.112: 78, 21.3111: 77, 62.231: 77, 56.1422: 77, 51.741: 76, 71.1211: 76, 11.231: 76, 42.495: 75, 32.3121: 75, 23.499: 75, 33.451: 75, 33.2111: 74, 51.229: 74, 33.4412: 74, 31.4129: 73, 56.1492: 73, 45.4319: 72, 33.792: 72, 31.2113: 72, 56.1421: 71, 45.4312: 71, 31.2111: 70, 51.223: 70, 49.319: 70, 33.9992: 70, 71.211: 70, 31.5222: 70, 32.7212: 69, 32.3117: 69, 81.222: 69, 42.131: 69, 31.1821: 68, 33.429: 68, 33.251: 68, 71.311: 67, 45.411: 66, 42.191: 66, 32.6121: 66, 33.121: 66, 62.141: 66, 32.5411: 65, 32.3122: 65, 33.5122: 65, 33.3312: 65, 42.241: 65, 56.1491: 65, 23.712: 65, 31.1919: 64, 33.3911: 64, 32.1992: 64, 33.6412: 63, 32.4121: 63, 42.341: 63, 52.4292: 63, 33.2996: 63, 33.2722: 62, 33.6214: 62, 32.6299: 62, 33.9111: 62, 42.161: 62, 33.1111: 61, 33.3311: 61, 42.346: 61, 48.1211: 61, 32.5611: 61, 33.3112: 60, 32.1214: 60, 33.4413: 60, 51.4191: 60, 71.119: 60, 31.1611: 60, 61.1513: 60, 33.7214: 60, 52.4113: 59, 52.4114: 59, 45.1212: 59, 56.2219: 59, 31.3311: 59, 31.134: 59, 23.721: 58, 51.512: 58, 81.2332: 58, 51.5112: 58, 33.3294: 57, 48.839: 57, 42.194: 57, 62.1991: 57, 32.591: 56, 33.3922: 56, 32.7122: 56, 32.5612: 55, 33.3293: 55, 61.163: 55, 11.5114: 55, 81.293: 55, 42.184: 55, 42.121: 55, 33.3993: 54, 52.312: 54, 42.122: 54, 56.2211: 54, 62.322: 54, 33.5121: 54, 42.231: 53, 42.374: 53, 42.459: 53, 23.331: 53, 32.1912: 52, 51.521: 52, 31.4121: 52, 33.3314: 52, 23.543: 52, 31.1111: 52, 42.193: 52, 42.269: 51, 33.2618: 51, 52.311: 51, 31.1712: 51, 33.5129: 51, 33.4511: 51, 45.4112: 51, 33.2911: 50, 48.8119: 50, 33.4515: 50, 52.222: 50, 42.144: 50, 33.9991: 49, 31.5232: 49, 33.7129: 49, 33.6322: 49, 51.7919: 49, 11.292: 48, 32.6212: 48, 32.7331: 48, 42.232: 48, 61.131: 48, 42.211: 48, 32.1211: 48, 42.451: 48, 33.2811: 48, 31.1942: 47, 62.4229: 47, 31.6992: 47, 32.7999: 46, 33.2439: 46, 42.292: 46, 32.5199: 46, 56.2212: 45, 33.6611: 45, 33.5312: 45, 23.491: 45, 33.6312: 44, 31.3222: 44, 33.4516: 44, 33.1221: 43, 33.7124: 43, 31.183: 43, 32.5992: 43, 33.4612: 43, 33.3411: 43, 42.111: 43, 31.611: 42, 33.4512: 42, 53.113: 42, 32.614: 42, 31.6999: 42, 11.4111: 42, 33.9931: 41, 81.2922: 41, 53.2411: 41, 51.751: 41, 33.421: 41, 31.411: 40, 11.2111: 40, 32.6111: 40, 31.1421: 40, 51.333: 40, 42.185: 40, 31.5231: 40, 31.1615: 40, 42.139: 40, 62.321: 39, 32.3111: 39, 33.3414: 39, 81.3319: 39, 48.821: 39, 52.314: 39, 32.2222: 38, 42.192: 38, 11.1998: 38, 33.3292: 37, 48.1219: 37, 33.3315: 37, 21.1111: 37, 32.5991: 37, 33.4418: 37, 31.1941: 37, 22.121: 37, 11.5113: 37, 52.2293: 37, 32.411: 37, 23.322: 37, 42.212: 37, 33.2919: 36, 32.615: 36, 33.5211: 36, 31.5228: 36, 48.5113: 36, 33.3921: 36, 33.321: 36, 48.799: 36, 11.299: 36, 42.172: 36, 31.132: 35, 33.3924: 35, 31.1911: 35, 33.791: 35, 42.452: 35, 42.291: 35, 72.2511: 35, 48.3211: 34, 11.5115: 34, 51.331: 34, 54.183: 34, 33.5314: 34, 42.151: 34, 51.913: 34, 33.636: 33, 48.1112: 33, 33.635: 32, 33.6111: 32, 51.339: 32, 42.444: 32, 32.3116: 32, 52.599: 32, 33.1521: 32, 32.2212: 32, 33.3618: 31, 33.1491: 31, 33.2994: 31, 31.5292: 31, 71.1212: 31, 33.9943: 31, 56.2112: 31, 31.1411: 31, 31.321: 31, 23.492: 31, 32.1114: 30, 32.6291: 30, 33.1513: 30, 33.242: 30, 31.1423: 30, 62.1491: 30, 33.5311: 30, 32.552: 30, 23.591: 30, 32.5188: 30, 32.2221: 30, 32.6122: 30, 42.246: 30, 31.6219: 29, 33.4613: 29, 11.1422: 29, 31.5225: 29, 49.312: 29, 33.9942: 29, 33.3912: 29, 31.1513: 29, 51.8112: 28, 32.7211: 28, 33.6411: 28, 52.593: 28, 31.1813: 28, 32.6112: 28, 51.7911: 28, 33.2117: 27, 11.311: 27, 42.162: 27, 32.2121: 27, 32.1991: 27, 33.2912: 27, 56.145: 27, 31.5991: 27, 42.272: 27, 31.5191: 27, 42.142: 27, 42.132: 27, 42.247: 27, 42.171: 27, 32.2223: 26, 11.221: 26, 48.1212: 26, 42.242: 26, 52.391: 26, 42.182: 26, 11.4112: 26, 33.2913: 25, 32.2291: 25, 21.2319: 25, 62.421: 25, 32.3118: 25, 33.1316: 25, 62.1492: 25, 33.3923: 24, 42.173: 24, 48.833: 24, 33.5931: 24, 31.1211: 24, 42.149: 24, 54.1712: 24, 22.1111: 24, 42.248: 24, 33.3131: 23, 22.1122: 23, 32.6191: 23, 42.213: 23, 32.5314: 23, 33.1222: 23, 23.595: 23, 33.1511: 23, 42.186: 23, 32.613: 22, 48.1111: 22, 81.399: 22, 11.321: 22, 61.141: 22, 23.594: 22, 23.581: 22, 32.622: 22, 11.4119: 22, 42.271: 22, 33.3295: 21, 56.1613: 21, 31.5291: 21, 11.421: 21, 31.3111: 21, 31.214: 21, 31.5119: 21, 42.282: 21, 62.221: 21, 31.6993: 20, 32.2233: 20, 53.311: 20, 33.9993: 20, 21.2311: 20, 31.1823: 20, 32.616: 20, 48.521: 20, 33.5921: 20, 31.3221: 20, 33.3991: 20, 33.4417: 20, 33.3313: 19, 33.4112: 19, 45.211: 19, 53.2112: 19, 42.181: 19, 33.633: 19, 51.1191: 19, 31.1511: 19, 33.5313: 19, 11.111: 19, 33.2991: 19, 42.251: 19, 42.245: 19, 31.3113: 18, 33.3291: 18, 32.5311: 18, 33.5212: 18, 48.3212: 18, 48.831: 18, 32.1219: 18, 33.5929: 18, 32.532: 18, 23.493: 18, 33.3613: 17, 71.329: 17, 32.7121: 17, 71.213: 17, 81.341: 17, 33.4518: 17, 31.1422: 17, 32.4191: 17, 33.2211: 17, 52.313: 17, 32.1213: 17, 11.1219: 17, 62.423: 17, 31.6211: 17, 33.1522: 17, 31.6991: 17, 31.5223: 17, 33.9913: 17, 32.6192: 17, 54.1711: 17, 31.5234: 16, 33.651: 16, 32.742: 16, 32.2231: 16, 32.791: 16, 31.6214: 16, 33.6311: 16, 42.261: 16, 22.1119: 16, 21.2312: 16, 32.6113: 16, 31.193: 16, 49.313: 16, 33.2997: 16, 11.239: 16, 48.2111: 15, 31.4911: 15, 33.2998: 15, 32.2232: 15, 51.5111: 15, 81.3312: 15, 33.5221: 15, 72.131: 15, 11.5116: 15, 22.132: 15, 33.9994: 15, 42.113: 15, 33.2992: 15, 33.241: 15, 32.731: 15, 42.234: 15, 51.7211: 14, 32.7332: 14, 33.1492: 14, 48.3111: 14, 33.2114: 14, 33.2995: 14, 11.291: 14, 31.1613: 14, 72.112: 14, 11.2112: 14, 72.2513: 14, 51.334: 14, 42.281: 14, 33.3997: 13, 51.911: 13, 31.1514: 13, 33.3995: 13, 52.511: 13, 33.612: 13, 33.3994: 13, 32.511: 13, 42.114: 13, 92.216: 12, 33.637: 12, 33.1312: 12, 33.6112: 12, 31.5224: 12, 51.3112: 12, 33.4414: 12, 33.3412: 12, 42.133: 12, 31.1711: 12, 33.511: 12, 32.7111: 12, 31.3249: 12, 32.7124: 12, 33.5991: 11, 33.4416: 11, 33.3611: 11, 52.591: 11, 52.2291: 11, 33.5228: 11, 33.1524: 11, 33.2611: 11, 33.4514: 11, 81.3212: 11, 22.133: 11, 48.832: 11, 23.311: 11, 32.2214: 11, 11.1419: 11, 33.6321: 10, 92.113: 10, 48.5111: 10, 31.332: 10, 61.121: 10, 31.2229: 10, 33.3612: 10, 32.5414: 10, 33.1314: 10, 48.2112: 10, 11.1332: 10, 32.4199: 10, 33.3516: 10, 32.7992: 10, 33.6992: 10, 33.634: 10, 11.234: 10, 31.1822: 10, 42.146: 10, 32.2213: 9, 33.2213: 9, 42.352: 9, 51.322: 9, 42.259: 9, 71.392: 9, 32.6211: 9, 81.411: 9, 11.115: 9, 52.3991: 9, 33.2214: 9, 42.294: 9, 42.174: 9, 71.219: 8, 48.3114: 8, 32.7125: 8, 33.9912: 8, 32.4122: 8, 48.3113: 8, 21.3115: 8, 33.2612: 8, 52.519: 8, 51.912: 8, 33.9995: 8, 42.243: 8, 56.2213: 8, 32.7113: 8, 52.512: 8, 32.5212: 8, 21.1112: 8, 31.123: 8, 11.114: 8, 33.2993: 8, 33.1419: 8, 42.295: 8, 92.213: 7, 32.2225: 7, 33.5932: 7, 54.112: 7, 33.1319: 7, 32.5131: 7, 52.592: 7, 21.3114: 7, 31.6213: 7, 21.2313: 7, 33.3913: 7, 11.2511: 7, 42.252: 7, 51.321: 7, 21.2399: 6, 92.311: 6, 33.3996: 6, 11.1199: 6, 51.2132: 6, 11.1339: 6, 92.411: 6, 32.213: 6, 32.2122: 6, 33.5911: 6, 21.3113: 6, 33.1528: 6, 48.699: 6, 11.194: 6, 32.1212: 6, 33.4411: 6, 11.2519: 6, 51.412: 6, 32.5413: 5, 92.615: 5, 33.6391: 5, 31.5111: 5, 33.4517: 5, 33.1421: 5, 42.141: 5, 48.691: 5, 32.7213: 5, 48.3112: 5, 33.9941: 5, 71.212: 5, 52.321: 5, 52.211: 5, 31.323: 5, 32.211: 5, 81.394: 5, 31.1225: 5, 11.2512: 5, 33.4113: 5, 31.1222: 5, 52.413: 5, 11.1334: 5, 33.1422: 5, 51.3111: 5, 33.6415: 4, 48.621: 4, 33.2431: 4, 33.1311: 4, 71.321: 4, 92.313: 4, 52.2294: 4, 31.5221: 4, 33.5224: 4, 32.7993: 4, 92.812: 4, 33.6419: 4, 31.5192: 4, 21.2393: 4, 92.612: 4, 31.1223: 4, 32.5181: 4, 21.2299: 4, 72.2515: 4, 32.7123: 4, 33.1315: 4, 21.2111: 4, 51.312: 4, 56.1312: 4, 11.5111: 4, 33.2112: 4, 51.3321: 4, 31.5993: 4, 33.9944: 4, 52.221: 3, 31.1212: 3, 42.152: 3, 31.1213: 3, 52.219: 3, 92.312: 3, 81.311: 3, 81.3219: 3, 21.2322: 3, 32.5132: 3, 92.219: 3, 33.1525: 3, 56.1591: 3, 48.5112: 3, 42.244: 3, 31.1221: 3, 31.3241: 3, 33.4415: 3, 48.8111: 3, 31.4991: 3, 48.611: 3, 32.5193: 3, 81.3311: 3, 11.293: 3, 31.5992: 3, 11.1211: 3, 33.1423: 3, 23.412: 3, 33.5912: 3, 11.1331: 3, 11.1411: 3, 31.3112: 3, 48.5119: 3, 33.6213: 3, 92.212: 2, 44.3142: 2, 55.1114: 2, 32.5191: 2, 92.811: 2, 44.3141: 2, 92.611: 2, 62.4221: 2, 81.393: 2, 32.2226: 2, 11.213: 2, 32.512: 2, 32.2215: 2, 11.112: 2, 31.1312: 2, 21.2325: 2, 92.215: 2, 44.1228: 2, 32.5613: 2, 32.5222: 2, 31.2221: 2, 22.1112: 2, 22.1121: 2, 92.614: 1, 21.2112: 1, 32.5192: 1, 81.3211: 1, 92.613: 1, 92.711: 1, 55.1111: 1, 32.592: 1, 33.632: 1, 33.3241: 1, 92.119: 1, 31.1351: 1, 51.419: 1, 32.5312: 1, 52.213: 1, 31.4992: 1, 32.712: 1, 21.221: 1, 31.331: 1, 33.2115: 1, 33.2216: 1, 11.1336: 1, 32.741: 1, nan: 1, 11.113: 1, 52.212: 1, 31.221: 1, 11.242: 1, nan: 1, nan: 1, 52.4192: 1, nan: 1, nan: 1, 31.599: 1, 21.2231: 1, 11.233: 1, 33.1411: 1, 11.191: 1, 11.1992: 1, nan: 1, 11.1335: 1, 11.1191: 1, 33.5222: 1, 51.411: 1, 31.1512: 1})\n"
     ]
    }
   ],
   "source": [
    "# All the NAICS codes are 6 digits. The first two digits determines the broad industry sector. https://davenport.libguides.com/naics\n",
    "# Removing the last 4 digits by dividing with 10000. Dropping instances with values less than 10. https://www.datasciencelearner.com/divide-two-columns-in-pandas-methods/\n",
    "\n",
    "SBA_df['NAICS']/=10000\n",
    "\n",
    "SBA_df['NAICS'] = SBA_df['NAICS'][SBA_df['NAICS'] >= 10]\n",
    "\n",
    "counts = Counter(SBA_df['NAICS'])\n",
    "print(counts)"
   ]
  },
  {
   "cell_type": "code",
   "execution_count": 43,
   "id": "87f1b8b8",
   "metadata": {},
   "outputs": [
    {
     "name": "stdout",
     "output_type": "stream",
     "text": [
      "Counter({44.0: 50908, 72.0: 46484, 54.0: 43472, 23.0: 41840, 81.0: 40401, 62.0: 28385, 42.0: 25907, 56.0: 23213, 45.0: 22510, 33.0: 19004, 48.0: 15285, 53.0: 9843, 32.0: 9427, 71.0: 8504, 51.0: 7463, 52.0: 7396, 31.0: 6615, 61.0: 4938, 11.0: 2815, 49.0: 1597, 21.0: 811, 22.0: 337, 55.0: 94, 92.0: 76, nan: 1, nan: 1, nan: 1, nan: 1, nan: 1, nan: 1})\n"
     ]
    }
   ],
   "source": [
    "# Removing the decimals. Keeping in mind, that we are dealing with categories and not traditional numbers.\n",
    "# The decimals should be rounded down. https://datatofish.com/round-values-pandas-dataframe/\n",
    "SBA_df['NAICS'] = SBA_df['NAICS'].apply(np.floor)\n",
    "\n",
    "counts = Counter(SBA_df['NAICS'])\n",
    "print(counts)"
   ]
  },
  {
   "cell_type": "code",
   "execution_count": 44,
   "id": "20cfb01d",
   "metadata": {},
   "outputs": [
    {
     "name": "stdout",
     "output_type": "stream",
     "text": [
      "Counter({44.0: 50908, 72.0: 46484, 54.0: 43472, 23.0: 41840, 81.0: 40401, 62.0: 28385, 42.0: 25907, 56.0: 23213, 45.0: 22510, 33.0: 19004, 48.0: 15285, 53.0: 9843, 32.0: 9427, 71.0: 8504, 51.0: 7463, 52.0: 7396, 31.0: 6615, 61.0: 4938, 11.0: 2815, 49.0: 1597, 21.0: 811, 22.0: 337, 55.0: 94, 92.0: 76})\n"
     ]
    }
   ],
   "source": [
    "# Dropping instances with the 'value' of nan.\n",
    "SBA_df.dropna(inplace=True)\n",
    "\n",
    "counts = Counter(SBA_df['NAICS'])\n",
    "print(counts)"
   ]
  },
  {
   "cell_type": "code",
   "execution_count": 45,
   "id": "70d69a4e",
   "metadata": {},
   "outputs": [
    {
     "name": "stdout",
     "output_type": "stream",
     "text": [
      "<class 'pandas.core.frame.DataFrame'>\n",
      "Int64Index: 417325 entries, 12 to 894831\n",
      "Data columns (total 12 columns):\n",
      " #   Column             Non-Null Count   Dtype\n",
      "---  ------             --------------   -----\n",
      " 0   State              417325 non-null  int64\n",
      " 1   BankState          417325 non-null  int64\n",
      " 2   NAICS              417325 non-null  int64\n",
      " 3   ApprovalFY         417325 non-null  int64\n",
      " 4   Term               417325 non-null  int64\n",
      " 5   NoEmp              417325 non-null  int64\n",
      " 6   NewExist           417325 non-null  int64\n",
      " 7   FranchiseCode      417325 non-null  int64\n",
      " 8   UrbanRural         417325 non-null  int64\n",
      " 9   LowDoc             417325 non-null  int64\n",
      " 10  DisbursementGross  417325 non-null  int64\n",
      " 11  MIS_Status         417325 non-null  int64\n",
      "dtypes: int64(12)\n",
      "memory usage: 41.4 MB\n"
     ]
    }
   ],
   "source": [
    "# Converting the attribute into integers\n",
    "SBA_df['NAICS'] = SBA_df['NAICS'].astype(np.int64)\n",
    "\n",
    "SBA_df.info()"
   ]
  },
  {
   "cell_type": "code",
   "execution_count": 46,
   "id": "f6e7aaf0",
   "metadata": {},
   "outputs": [
    {
     "data": {
      "text/html": [
       "<div>\n",
       "<style scoped>\n",
       "    .dataframe tbody tr th:only-of-type {\n",
       "        vertical-align: middle;\n",
       "    }\n",
       "\n",
       "    .dataframe tbody tr th {\n",
       "        vertical-align: top;\n",
       "    }\n",
       "\n",
       "    .dataframe thead th {\n",
       "        text-align: right;\n",
       "    }\n",
       "</style>\n",
       "<table border=\"1\" class=\"dataframe\">\n",
       "  <thead>\n",
       "    <tr style=\"text-align: right;\">\n",
       "      <th></th>\n",
       "      <th>State</th>\n",
       "      <th>BankState</th>\n",
       "      <th>NAICS</th>\n",
       "      <th>ApprovalFY</th>\n",
       "      <th>Term</th>\n",
       "      <th>NoEmp</th>\n",
       "      <th>NewExist</th>\n",
       "      <th>FranchiseCode</th>\n",
       "      <th>UrbanRural</th>\n",
       "      <th>LowDoc</th>\n",
       "      <th>DisbursementGross</th>\n",
       "      <th>MIS_Status</th>\n",
       "    </tr>\n",
       "  </thead>\n",
       "  <tbody>\n",
       "    <tr>\n",
       "      <th>12</th>\n",
       "      <td>20</td>\n",
       "      <td>12</td>\n",
       "      <td>44</td>\n",
       "      <td>2006</td>\n",
       "      <td>162</td>\n",
       "      <td>2</td>\n",
       "      <td>2</td>\n",
       "      <td>1</td>\n",
       "      <td>1</td>\n",
       "      <td>0</td>\n",
       "      <td>253400</td>\n",
       "      <td>0</td>\n",
       "    </tr>\n",
       "    <tr>\n",
       "      <th>24</th>\n",
       "      <td>41</td>\n",
       "      <td>35</td>\n",
       "      <td>72</td>\n",
       "      <td>2006</td>\n",
       "      <td>126</td>\n",
       "      <td>7</td>\n",
       "      <td>1</td>\n",
       "      <td>0</td>\n",
       "      <td>1</td>\n",
       "      <td>0</td>\n",
       "      <td>137300</td>\n",
       "      <td>0</td>\n",
       "    </tr>\n",
       "    <tr>\n",
       "      <th>28</th>\n",
       "      <td>1</td>\n",
       "      <td>7</td>\n",
       "      <td>61</td>\n",
       "      <td>2006</td>\n",
       "      <td>83</td>\n",
       "      <td>18</td>\n",
       "      <td>2</td>\n",
       "      <td>0</td>\n",
       "      <td>1</td>\n",
       "      <td>0</td>\n",
       "      <td>438541</td>\n",
       "      <td>0</td>\n",
       "    </tr>\n",
       "    <tr>\n",
       "      <th>30</th>\n",
       "      <td>4</td>\n",
       "      <td>15</td>\n",
       "      <td>23</td>\n",
       "      <td>2006</td>\n",
       "      <td>84</td>\n",
       "      <td>4</td>\n",
       "      <td>1</td>\n",
       "      <td>0</td>\n",
       "      <td>1</td>\n",
       "      <td>0</td>\n",
       "      <td>51440</td>\n",
       "      <td>0</td>\n",
       "    </tr>\n",
       "    <tr>\n",
       "      <th>32</th>\n",
       "      <td>32</td>\n",
       "      <td>46</td>\n",
       "      <td>53</td>\n",
       "      <td>2006</td>\n",
       "      <td>60</td>\n",
       "      <td>3</td>\n",
       "      <td>1</td>\n",
       "      <td>0</td>\n",
       "      <td>1</td>\n",
       "      <td>0</td>\n",
       "      <td>50000</td>\n",
       "      <td>0</td>\n",
       "    </tr>\n",
       "  </tbody>\n",
       "</table>\n",
       "</div>"
      ],
      "text/plain": [
       "    State  BankState  NAICS  ApprovalFY  Term  NoEmp  NewExist  FranchiseCode  \\\n",
       "12     20         12     44        2006   162      2         2              1   \n",
       "24     41         35     72        2006   126      7         1              0   \n",
       "28      1          7     61        2006    83     18         2              0   \n",
       "30      4         15     23        2006    84      4         1              0   \n",
       "32     32         46     53        2006    60      3         1              0   \n",
       "\n",
       "    UrbanRural  LowDoc  DisbursementGross  MIS_Status  \n",
       "12           1       0             253400           0  \n",
       "24           1       0             137300           0  \n",
       "28           1       0             438541           0  \n",
       "30           1       0              51440           0  \n",
       "32           1       0              50000           0  "
      ]
     },
     "execution_count": 46,
     "metadata": {},
     "output_type": "execute_result"
    }
   ],
   "source": [
    "SBA_df.head()"
   ]
  },
  {
   "cell_type": "markdown",
   "id": "8499496c",
   "metadata": {},
   "source": [
    "### NoEmp"
   ]
  },
  {
   "cell_type": "code",
   "execution_count": 47,
   "id": "0208a9ff",
   "metadata": {
    "scrolled": true
   },
   "outputs": [
    {
     "name": "stdout",
     "output_type": "stream",
     "text": [
      "Counter({1: 91408, 2: 75151, 3: 45814, 4: 35258, 5: 28284, 6: 20134, 7: 13588, 8: 13165, 10: 12852, 12: 8057, 9: 7094, 15: 6974, 0: 5207, 20: 5156, 11: 4367, 14: 3684, 25: 3411, 13: 3287, 30: 2704, 18: 2599, 16: 2512, 17: 1962, 22: 1611, 40: 1548, 35: 1481, 50: 1190, 21: 1150, 19: 1138, 24: 1086, 23: 1033, 45: 841, 28: 835, 26: 810, 27: 672, 60: 657, 32: 651, 29: 390, 65: 351, 55: 351, 36: 348, 42: 347, 80: 345, 38: 336, 34: 335, 33: 333, 100: 330, 70: 321, 31: 319, 75: 303, 48: 237, 37: 233, 43: 224, 39: 174, 47: 172, 41: 169, 44: 167, 46: 157, 52: 153, 150: 150, 90: 148, 85: 141, 49: 129, 120: 114, 110: 103, 51: 99, 53: 93, 54: 91, 56: 89, 62: 87, 200: 86, 125: 81, 130: 80, 95: 78, 58: 77, 68: 75, 57: 67, 63: 63, 82: 62, 140: 57, 72: 53, 105: 47, 64: 45, 67: 44, 59: 43, 61: 41, 71: 41, 300: 40, 73: 40, 78: 39, 74: 38, 66: 37, 250: 36, 88: 36, 98: 35, 160: 34, 77: 34, 115: 33, 76: 29, 86: 28, 180: 28, 79: 26, 170: 25, 135: 25, 84: 25, 69: 24, 87: 24, 145: 21, 102: 20, 97: 20, 92: 19, 175: 19, 96: 19, 83: 19, 220: 17, 94: 17, 165: 17, 93: 16, 81: 16, 89: 16, 103: 16, 400: 15, 185: 15, 99: 15, 112: 13, 108: 13, 500: 12, 91: 12, 107: 12, 155: 11, 114: 11, 106: 11, 450: 10, 210: 10, 190: 9, 121: 9, 129: 9, 230: 9, 195: 9, 109: 9, 122: 9, 118: 8, 104: 8, 240: 8, 600: 8, 116: 8, 141: 8, 101: 8, 350: 7, 111: 7, 119: 7, 123: 7, 260: 6, 117: 6, 138: 6, 128: 6, 137: 6, 172: 6, 131: 6, 142: 6, 126: 6, 161: 5, 127: 5, 325: 5, 148: 5, 139: 5, 215: 5, 146: 5, 147: 5, 1200: 5, 270: 5, 275: 4, 187: 4, 124: 4, 136: 4, 149: 4, 113: 4, 550: 4, 280: 4, 171: 3, 231: 3, 143: 3, 235: 3, 330: 3, 225: 3, 256: 3, 179: 3, 152: 3, 132: 3, 365: 3, 189: 3, 203: 3, 700: 3, 750: 3, 167: 3, 157: 3, 243: 3, 158: 3, 387: 3, 205: 3, 177: 3, 265: 2, 317: 2, 183: 2, 154: 2, 163: 2, 1940: 2, 523: 2, 207: 2, 360: 2, 194: 2, 2500: 2, 151: 2, 196: 2, 182: 2, 1100: 2, 800: 2, 420: 2, 166: 2, 192: 2, 5000: 2, 1500: 2, 186: 2, 204: 2, 290: 2, 2202: 2, 156: 2, 403: 2, 498: 2, 380: 2, 173: 2, 133: 1, 424: 1, 345: 1, 216: 1, 320: 1, 4000: 1, 368: 1, 8000: 1, 430: 1, 197: 1, 176: 1, 362: 1, 202: 1, 520: 1, 2151: 1, 316: 1, 395: 1, 6501: 1, 1300: 1, 394: 1, 287: 1, 4847: 1, 3900: 1, 967: 1, 153: 1, 476: 1, 336: 1, 1233: 1, 255: 1, 1451: 1, 454: 1, 1550: 1, 544: 1, 241: 1, 213: 1, 281: 1, 199: 1, 191: 1, 510: 1, 435: 1, 375: 1, 193: 1, 232: 1, 211: 1, 285: 1, 188: 1, 261: 1, 245: 1, 307: 1, 585: 1, 292: 1, 144: 1, 295: 1, 376: 1, 363: 1, 159: 1, 7991: 1, 253: 1, 212: 1, 5211: 1, 7389: 1, 4012: 1, 237: 1, 1112: 1, 169: 1, 1900: 1, 164: 1, 1440: 1, 302: 1, 258: 1, 246: 1, 244: 1, 410: 1, 456: 1, 257: 1, 720: 1, 900: 1, 252: 1, 4501: 1, 4800: 1, 329: 1, 538: 1, 1603: 1, 1706: 1, 310: 1, 2520: 1, 223: 1, 283: 1, 1520: 1, 201: 1, 298: 1, 480: 1, 305: 1, 1073: 1, 266: 1, 1644: 1, 5812: 1, 1000: 1, 178: 1, 315: 1, 448: 1, 2700: 1, 560: 1, 535: 1, 760: 1, 309: 1, 228: 1, 314: 1, 168: 1, 327: 1, 1010: 1, 540: 1, 650: 1, 780: 1, 214: 1, 2000: 1, 254: 1, 3713: 1})\n"
     ]
    }
   ],
   "source": [
    "# NoEmp looks fine. The values looks reasonable and seems realistic. No preprocessing required.\n",
    "counts = Counter(SBA_df['NoEmp'])\n",
    "print(counts)"
   ]
  },
  {
   "cell_type": "markdown",
   "id": "b7a28d9b",
   "metadata": {},
   "source": [
    "### The preprocessed dataset"
   ]
  },
  {
   "cell_type": "code",
   "execution_count": 48,
   "id": "e52a6db0",
   "metadata": {
    "scrolled": false
   },
   "outputs": [
    {
     "data": {
      "text/html": [
       "<div>\n",
       "<style scoped>\n",
       "    .dataframe tbody tr th:only-of-type {\n",
       "        vertical-align: middle;\n",
       "    }\n",
       "\n",
       "    .dataframe tbody tr th {\n",
       "        vertical-align: top;\n",
       "    }\n",
       "\n",
       "    .dataframe thead th {\n",
       "        text-align: right;\n",
       "    }\n",
       "</style>\n",
       "<table border=\"1\" class=\"dataframe\">\n",
       "  <thead>\n",
       "    <tr style=\"text-align: right;\">\n",
       "      <th></th>\n",
       "      <th>State</th>\n",
       "      <th>BankState</th>\n",
       "      <th>NAICS</th>\n",
       "      <th>ApprovalFY</th>\n",
       "      <th>Term</th>\n",
       "      <th>NoEmp</th>\n",
       "      <th>NewExist</th>\n",
       "      <th>FranchiseCode</th>\n",
       "      <th>UrbanRural</th>\n",
       "      <th>LowDoc</th>\n",
       "      <th>DisbursementGross</th>\n",
       "      <th>MIS_Status</th>\n",
       "    </tr>\n",
       "  </thead>\n",
       "  <tbody>\n",
       "    <tr>\n",
       "      <th>12</th>\n",
       "      <td>20</td>\n",
       "      <td>12</td>\n",
       "      <td>44</td>\n",
       "      <td>2006</td>\n",
       "      <td>162</td>\n",
       "      <td>2</td>\n",
       "      <td>2</td>\n",
       "      <td>1</td>\n",
       "      <td>1</td>\n",
       "      <td>0</td>\n",
       "      <td>253400</td>\n",
       "      <td>0</td>\n",
       "    </tr>\n",
       "    <tr>\n",
       "      <th>24</th>\n",
       "      <td>41</td>\n",
       "      <td>35</td>\n",
       "      <td>72</td>\n",
       "      <td>2006</td>\n",
       "      <td>126</td>\n",
       "      <td>7</td>\n",
       "      <td>1</td>\n",
       "      <td>0</td>\n",
       "      <td>1</td>\n",
       "      <td>0</td>\n",
       "      <td>137300</td>\n",
       "      <td>0</td>\n",
       "    </tr>\n",
       "    <tr>\n",
       "      <th>28</th>\n",
       "      <td>1</td>\n",
       "      <td>7</td>\n",
       "      <td>61</td>\n",
       "      <td>2006</td>\n",
       "      <td>83</td>\n",
       "      <td>18</td>\n",
       "      <td>2</td>\n",
       "      <td>0</td>\n",
       "      <td>1</td>\n",
       "      <td>0</td>\n",
       "      <td>438541</td>\n",
       "      <td>0</td>\n",
       "    </tr>\n",
       "    <tr>\n",
       "      <th>30</th>\n",
       "      <td>4</td>\n",
       "      <td>15</td>\n",
       "      <td>23</td>\n",
       "      <td>2006</td>\n",
       "      <td>84</td>\n",
       "      <td>4</td>\n",
       "      <td>1</td>\n",
       "      <td>0</td>\n",
       "      <td>1</td>\n",
       "      <td>0</td>\n",
       "      <td>51440</td>\n",
       "      <td>0</td>\n",
       "    </tr>\n",
       "    <tr>\n",
       "      <th>32</th>\n",
       "      <td>32</td>\n",
       "      <td>46</td>\n",
       "      <td>53</td>\n",
       "      <td>2006</td>\n",
       "      <td>60</td>\n",
       "      <td>3</td>\n",
       "      <td>1</td>\n",
       "      <td>0</td>\n",
       "      <td>1</td>\n",
       "      <td>0</td>\n",
       "      <td>50000</td>\n",
       "      <td>0</td>\n",
       "    </tr>\n",
       "  </tbody>\n",
       "</table>\n",
       "</div>"
      ],
      "text/plain": [
       "    State  BankState  NAICS  ApprovalFY  Term  NoEmp  NewExist  FranchiseCode  \\\n",
       "12     20         12     44        2006   162      2         2              1   \n",
       "24     41         35     72        2006   126      7         1              0   \n",
       "28      1          7     61        2006    83     18         2              0   \n",
       "30      4         15     23        2006    84      4         1              0   \n",
       "32     32         46     53        2006    60      3         1              0   \n",
       "\n",
       "    UrbanRural  LowDoc  DisbursementGross  MIS_Status  \n",
       "12           1       0             253400           0  \n",
       "24           1       0             137300           0  \n",
       "28           1       0             438541           0  \n",
       "30           1       0              51440           0  \n",
       "32           1       0              50000           0  "
      ]
     },
     "execution_count": 48,
     "metadata": {},
     "output_type": "execute_result"
    }
   ],
   "source": [
    "# Displyaing how the dataset looks like\n",
    "SBA_df.head()"
   ]
  },
  {
   "cell_type": "code",
   "execution_count": 49,
   "id": "68092967",
   "metadata": {},
   "outputs": [
    {
     "name": "stdout",
     "output_type": "stream",
     "text": [
      "<class 'pandas.core.frame.DataFrame'>\n",
      "Int64Index: 417325 entries, 12 to 894831\n",
      "Data columns (total 12 columns):\n",
      " #   Column             Non-Null Count   Dtype\n",
      "---  ------             --------------   -----\n",
      " 0   State              417325 non-null  int64\n",
      " 1   BankState          417325 non-null  int64\n",
      " 2   NAICS              417325 non-null  int64\n",
      " 3   ApprovalFY         417325 non-null  int64\n",
      " 4   Term               417325 non-null  int64\n",
      " 5   NoEmp              417325 non-null  int64\n",
      " 6   NewExist           417325 non-null  int64\n",
      " 7   FranchiseCode      417325 non-null  int64\n",
      " 8   UrbanRural         417325 non-null  int64\n",
      " 9   LowDoc             417325 non-null  int64\n",
      " 10  DisbursementGross  417325 non-null  int64\n",
      " 11  MIS_Status         417325 non-null  int64\n",
      "dtypes: int64(12)\n",
      "memory usage: 41.4 MB\n"
     ]
    }
   ],
   "source": [
    "# Displyaing the Dtypes and the amount of instances in the dataset\n",
    "SBA_df.info()"
   ]
  },
  {
   "cell_type": "code",
   "execution_count": 50,
   "id": "c772d9c5",
   "metadata": {},
   "outputs": [],
   "source": [
    "#Exporting the preprocessed data to better handle it in a new jupyter Notebook.\n",
    "SBA_df.to_csv('SBA_PreprocessedData.csv')"
   ]
  },
  {
   "cell_type": "code",
   "execution_count": null,
   "id": "d370f7a4",
   "metadata": {},
   "outputs": [],
   "source": []
  }
 ],
 "metadata": {
  "kernelspec": {
   "display_name": "Python 3 (ipykernel)",
   "language": "python",
   "name": "python3"
  },
  "language_info": {
   "codemirror_mode": {
    "name": "ipython",
    "version": 3
   },
   "file_extension": ".py",
   "mimetype": "text/x-python",
   "name": "python",
   "nbconvert_exporter": "python",
   "pygments_lexer": "ipython3",
   "version": "3.9.12"
  }
 },
 "nbformat": 4,
 "nbformat_minor": 5
}
